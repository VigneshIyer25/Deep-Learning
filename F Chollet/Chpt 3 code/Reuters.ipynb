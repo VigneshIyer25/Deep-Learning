{
 "cells": [
  {
   "cell_type": "markdown",
   "metadata": {},
   "source": [
    "## Reuters - multi class classification of newswire\n",
    "Refer the link to get details about the dataset: https://martin-thoma.com/nlp-reuters/\n",
    "\n",
    "A subset of the Reuters dataset comes packaged as part of Keras, which contains 46 different classes and for each class there are at least 10 examples in the training set\n",
    "\n",
    "### 1. Loading the dataset"
   ]
  },
  {
   "cell_type": "code",
   "execution_count": 1,
   "metadata": {},
   "outputs": [
    {
     "name": "stderr",
     "output_type": "stream",
     "text": [
      "C:\\ProgramData\\Anaconda3\\lib\\site-packages\\h5py\\__init__.py:36: FutureWarning: Conversion of the second argument of issubdtype from `float` to `np.floating` is deprecated. In future, it will be treated as `np.float64 == np.dtype(float).type`.\n",
      "  from ._conv import register_converters as _register_converters\n",
      "Using TensorFlow backend.\n"
     ]
    }
   ],
   "source": [
    "import numpy as np\n",
    "import matplotlib.pyplot as plt\n",
    "import copy\n",
    "from keras.utils.np_utils import to_categorical\n",
    "from keras import models\n",
    "from keras import layers\n",
    "from keras.datasets import reuters"
   ]
  },
  {
   "cell_type": "code",
   "execution_count": 2,
   "metadata": {},
   "outputs": [
    {
     "name": "stdout",
     "output_type": "stream",
     "text": [
      "Downloading data from https://s3.amazonaws.com/text-datasets/reuters.npz\n",
      "2113536/2110848 [==============================] - 7s 4us/step\n"
     ]
    }
   ],
   "source": [
    "(train_data, train_labels), (test_data, test_labels) = reuters.load_data(num_words=10000)"
   ]
  },
  {
   "cell_type": "markdown",
   "metadata": {},
   "source": [
    "The argument num_words=10000 restricts the data to the 10,000 most frequently occurring words found in the data."
   ]
  },
  {
   "cell_type": "code",
   "execution_count": 3,
   "metadata": {},
   "outputs": [
    {
     "data": {
      "text/plain": [
       "8982"
      ]
     },
     "execution_count": 3,
     "metadata": {},
     "output_type": "execute_result"
    }
   ],
   "source": [
    "len(train_data)"
   ]
  },
  {
   "cell_type": "code",
   "execution_count": 4,
   "metadata": {},
   "outputs": [
    {
     "data": {
      "text/plain": [
       "2246"
      ]
     },
     "execution_count": 4,
     "metadata": {},
     "output_type": "execute_result"
    }
   ],
   "source": [
    "len(test_data)"
   ]
  },
  {
   "cell_type": "markdown",
   "metadata": {},
   "source": [
    "We have 8,982 training examples and 2,246 test examples\n",
    "\n",
    "Each example is a list of integers (word indices/ranks)"
   ]
  },
  {
   "cell_type": "code",
   "execution_count": 10,
   "metadata": {},
   "outputs": [
    {
     "data": {
      "text/plain": [
       "[1,\n",
       " 245,\n",
       " 273,\n",
       " 207,\n",
       " 156,\n",
       " 53,\n",
       " 74,\n",
       " 160,\n",
       " 26,\n",
       " 14,\n",
       " 46,\n",
       " 296,\n",
       " 26,\n",
       " 39,\n",
       " 74,\n",
       " 2979,\n",
       " 3554,\n",
       " 14,\n",
       " 46,\n",
       " 4689,\n",
       " 4329,\n",
       " 86,\n",
       " 61,\n",
       " 3499,\n",
       " 4795,\n",
       " 14,\n",
       " 61,\n",
       " 451,\n",
       " 4329,\n",
       " 17,\n",
       " 12]"
      ]
     },
     "execution_count": 10,
     "metadata": {},
     "output_type": "execute_result"
    }
   ],
   "source": [
    "train_data[10]"
   ]
  },
  {
   "cell_type": "markdown",
   "metadata": {},
   "source": [
    "#### Decoding newswire back to text"
   ]
  },
  {
   "cell_type": "code",
   "execution_count": 11,
   "metadata": {},
   "outputs": [
    {
     "name": "stdout",
     "output_type": "stream",
     "text": [
      "Downloading data from https://s3.amazonaws.com/text-datasets/reuters_word_index.json\n",
      "557056/550378 [==============================] - 4s 7us/step\n"
     ]
    }
   ],
   "source": [
    "word_index = reuters.get_word_index()"
   ]
  },
  {
   "cell_type": "code",
   "execution_count": 12,
   "metadata": {},
   "outputs": [],
   "source": [
    "reverse_word_index = dict([(value, key) for (key, value) in word_index.items()])"
   ]
  },
  {
   "cell_type": "code",
   "execution_count": 13,
   "metadata": {},
   "outputs": [],
   "source": [
    "# Decode the first document\n",
    "decoded_newswire = ' '.join([reverse_word_index.get(i - 3, '?') for i in train_data[0]])"
   ]
  },
  {
   "cell_type": "markdown",
   "metadata": {},
   "source": [
    "**Note:** The indices are offset by 3 because 0, 1, and 2 are reserved indices for “padding,” “start of sequence,” and “unknown.”"
   ]
  },
  {
   "cell_type": "code",
   "execution_count": 14,
   "metadata": {},
   "outputs": [
    {
     "data": {
      "text/plain": [
       "'? ? ? said as a result of its december acquisition of space co it expects earnings per share in 1987 of 1 15 to 1 30 dlrs per share up from 70 cts in 1986 the company said pretax net should rise to nine to 10 mln dlrs from six mln dlrs in 1986 and rental operation revenues to 19 to 22 mln dlrs from 12 5 mln dlrs it said cash flow per share this year should be 2 50 to three dlrs reuter 3'"
      ]
     },
     "execution_count": 14,
     "metadata": {},
     "output_type": "execute_result"
    }
   ],
   "source": [
    "decoded_newswire"
   ]
  },
  {
   "cell_type": "markdown",
   "metadata": {},
   "source": [
    "The label associated with an example is an integer between 0 and 45—a topic index:"
   ]
  },
  {
   "cell_type": "code",
   "execution_count": 15,
   "metadata": {},
   "outputs": [
    {
     "data": {
      "text/plain": [
       "3"
      ]
     },
     "execution_count": 15,
     "metadata": {},
     "output_type": "execute_result"
    }
   ],
   "source": [
    "train_labels[10]"
   ]
  },
  {
   "cell_type": "markdown",
   "metadata": {},
   "source": [
    "### 2. Data Preparation\n",
    "Encoding the data"
   ]
  },
  {
   "cell_type": "code",
   "execution_count": 18,
   "metadata": {},
   "outputs": [],
   "source": [
    "def vectorize_sequences(sequences, dimension=10000):\n",
    "    results = np.zeros((len(sequences), dimension))\n",
    "    for i, sequence in enumerate(sequences):\n",
    "        results[i, sequence] = 1.\n",
    "    return results"
   ]
  },
  {
   "cell_type": "code",
   "execution_count": 19,
   "metadata": {},
   "outputs": [],
   "source": [
    "# Vectorize train and test data\n",
    "x_train = vectorize_sequences(train_data)\n",
    "x_test = vectorize_sequences(test_data)"
   ]
  },
  {
   "cell_type": "code",
   "execution_count": 20,
   "metadata": {},
   "outputs": [],
   "source": [
    "# Vectorize train and test labels using built-in keras function\n",
    "one_hot_train_labels = to_categorical(train_labels)\n",
    "one_hot_test_labels = to_categorical(test_labels)"
   ]
  },
  {
   "cell_type": "markdown",
   "metadata": {},
   "source": [
    "### 3. Building the network\n",
    "In IMDB dataset (binary classification), we used 16 dimensional intermediate layers, but that would be too limited to learn to separate 46 different classes. Such small layers may act as information bottlenecks, permanently dropping important information. Let's use 64 units"
   ]
  },
  {
   "cell_type": "code",
   "execution_count": 24,
   "metadata": {},
   "outputs": [],
   "source": [
    "model = models.Sequential()\n",
    "\n",
    "# Hidden layer 1 => 64 units\n",
    "model.add(layers.Dense(64, activation='relu', input_shape=(10000,)))\n",
    "\n",
    "# Hidden layer 2 => 64 units\n",
    "model.add(layers.Dense(64, activation='relu'))\n",
    "\n",
    "# Output Softmax Layer => 46 units\n",
    "model.add(layers.Dense(46, activation='softmax'))"
   ]
  },
  {
   "cell_type": "code",
   "execution_count": 25,
   "metadata": {
    "collapsed": true
   },
   "outputs": [
    {
     "name": "stdout",
     "output_type": "stream",
     "text": [
      "WARNING:tensorflow:From C:\\ProgramData\\Anaconda3\\lib\\site-packages\\keras\\backend\\tensorflow_backend.py:2885: calling reduce_sum (from tensorflow.python.ops.math_ops) with keep_dims is deprecated and will be removed in a future version.\n",
      "Instructions for updating:\n",
      "keep_dims is deprecated, use keepdims instead\n",
      "WARNING:tensorflow:From C:\\ProgramData\\Anaconda3\\lib\\site-packages\\keras\\backend\\tensorflow_backend.py:1349: calling reduce_mean (from tensorflow.python.ops.math_ops) with keep_dims is deprecated and will be removed in a future version.\n",
      "Instructions for updating:\n",
      "keep_dims is deprecated, use keepdims instead\n"
     ]
    }
   ],
   "source": [
    "model.compile(optimizer='rmsprop', loss='categorical_crossentropy', metrics=['accuracy'])"
   ]
  },
  {
   "cell_type": "markdown",
   "metadata": {},
   "source": [
    "Let’s set apart 1,000 samples in the training data to use as a validation set."
   ]
  },
  {
   "cell_type": "code",
   "execution_count": 26,
   "metadata": {},
   "outputs": [],
   "source": [
    "x_val = x_train[:1000]\n",
    "partial_x_train = x_train[1000:]\n",
    "\n",
    "y_val = one_hot_train_labels[:1000]\n",
    "partial_y_train = one_hot_train_labels[1000:]"
   ]
  },
  {
   "cell_type": "markdown",
   "metadata": {},
   "source": [
    "Training the model"
   ]
  },
  {
   "cell_type": "code",
   "execution_count": 27,
   "metadata": {},
   "outputs": [
    {
     "name": "stdout",
     "output_type": "stream",
     "text": [
      "Train on 7982 samples, validate on 1000 samples\n",
      "Epoch 1/20\n",
      "7982/7982 [==============================] - 4s 539us/step - loss: 2.5306 - acc: 0.4962 - val_loss: 1.7180 - val_acc: 0.6120\n",
      "Epoch 2/20\n",
      "7982/7982 [==============================] - 3s 396us/step - loss: 1.4430 - acc: 0.6878 - val_loss: 1.3435 - val_acc: 0.7060\n",
      "Epoch 3/20\n",
      "7982/7982 [==============================] - 3s 397us/step - loss: 1.0929 - acc: 0.7661 - val_loss: 1.1704 - val_acc: 0.7430\n",
      "Epoch 4/20\n",
      "7982/7982 [==============================] - 3s 370us/step - loss: 0.8682 - acc: 0.8166 - val_loss: 1.0788 - val_acc: 0.7600\n",
      "Epoch 5/20\n",
      "7982/7982 [==============================] - 3s 369us/step - loss: 0.7020 - acc: 0.8483 - val_loss: 0.9844 - val_acc: 0.7830\n",
      "Epoch 6/20\n",
      "7982/7982 [==============================] - 3s 372us/step - loss: 0.5666 - acc: 0.8796 - val_loss: 0.9401 - val_acc: 0.8030\n",
      "Epoch 7/20\n",
      "7982/7982 [==============================] - 3s 369us/step - loss: 0.4592 - acc: 0.9039 - val_loss: 0.9090 - val_acc: 0.8010\n",
      "Epoch 8/20\n",
      "7982/7982 [==============================] - 3s 372us/step - loss: 0.3704 - acc: 0.9226 - val_loss: 0.9359 - val_acc: 0.7890\n",
      "Epoch 9/20\n",
      "7982/7982 [==============================] - 3s 409us/step - loss: 0.3036 - acc: 0.9308 - val_loss: 0.8912 - val_acc: 0.8070\n",
      "Epoch 10/20\n",
      "7982/7982 [==============================] - 3s 374us/step - loss: 0.2539 - acc: 0.9412 - val_loss: 0.9059 - val_acc: 0.8110\n",
      "Epoch 11/20\n",
      "7982/7982 [==============================] - 3s 409us/step - loss: 0.2185 - acc: 0.9471 - val_loss: 0.9152 - val_acc: 0.8120\n",
      "Epoch 12/20\n",
      "7982/7982 [==============================] - 3s 384us/step - loss: 0.1872 - acc: 0.9511 - val_loss: 0.9045 - val_acc: 0.8150\n",
      "Epoch 13/20\n",
      "7982/7982 [==============================] - 3s 388us/step - loss: 0.1696 - acc: 0.9523 - val_loss: 0.9338 - val_acc: 0.8090\n",
      "Epoch 14/20\n",
      "7982/7982 [==============================] - 3s 394us/step - loss: 0.1531 - acc: 0.9554 - val_loss: 0.9644 - val_acc: 0.8090\n",
      "Epoch 15/20\n",
      "7982/7982 [==============================] - 3s 378us/step - loss: 0.1387 - acc: 0.9555 - val_loss: 0.9697 - val_acc: 0.8120\n",
      "Epoch 16/20\n",
      "7982/7982 [==============================] - 3s 374us/step - loss: 0.1310 - acc: 0.9562 - val_loss: 1.0280 - val_acc: 0.8040\n",
      "Epoch 17/20\n",
      "7982/7982 [==============================] - 3s 374us/step - loss: 0.1214 - acc: 0.9577 - val_loss: 1.0307 - val_acc: 0.7950\n",
      "Epoch 18/20\n",
      "7982/7982 [==============================] - 3s 400us/step - loss: 0.1193 - acc: 0.9582 - val_loss: 1.0454 - val_acc: 0.8080\n",
      "Epoch 19/20\n",
      "7982/7982 [==============================] - 3s 388us/step - loss: 0.1136 - acc: 0.9595 - val_loss: 1.1013 - val_acc: 0.7950\n",
      "Epoch 20/20\n",
      "7982/7982 [==============================] - 3s 400us/step - loss: 0.1104 - acc: 0.9595 - val_loss: 1.0710 - val_acc: 0.8020\n"
     ]
    }
   ],
   "source": [
    "history = model.fit(partial_x_train,\n",
    "                    partial_y_train,\n",
    "                    epochs=20,\n",
    "                    batch_size=512,\n",
    "                    validation_data=(x_val, y_val))"
   ]
  },
  {
   "cell_type": "markdown",
   "metadata": {},
   "source": [
    "### 4. Plotting loss and accuracy"
   ]
  },
  {
   "cell_type": "code",
   "execution_count": 28,
   "metadata": {},
   "outputs": [
    {
     "data": {
      "image/png": "[encoded data removed]",
      "text/plain": [
       "<Figure size 432x288 with 1 Axes>"
      ]
     },
     "metadata": {},
     "output_type": "display_data"
    }
   ],
   "source": [
    "loss = history.history['loss']\n",
    "val_loss = history.history['val_loss']\n",
    "\n",
    "epochs = range(1, len(loss) + 1)\n",
    "\n",
    "plt.plot(epochs, loss, 'bo', label='Training loss')\n",
    "plt.plot(epochs, val_loss, 'b', label='Validation loss')\n",
    "plt.title('Training and validation loss')\n",
    "plt.xlabel('Epochs')\n",
    "plt.ylabel('Loss')\n",
    "plt.legend()\n",
    "plt.show()"
   ]
  },
  {
   "cell_type": "code",
   "execution_count": 29,
   "metadata": {},
   "outputs": [
    {
     "data": {
      "image/png": "[encoded data removed]",
      "text/plain": [
       "<Figure size 432x288 with 1 Axes>"
      ]
     },
     "metadata": {},
     "output_type": "display_data"
    }
   ],
   "source": [
    "acc = history.history['acc']\n",
    "val_acc = history.history['val_acc']\n",
    "\n",
    "plt.plot(epochs, acc, 'bo', label='Training acc')\n",
    "plt.plot(epochs, val_acc, 'b', label='Validation acc')\n",
    "plt.title('Training and validation accuracy')\n",
    "plt.xlabel('Epochs')\n",
    "plt.ylabel('Loss')\n",
    "plt.legend()\n",
    "plt.show()"
   ]
  },
  {
   "cell_type": "markdown",
   "metadata": {},
   "source": [
    "The network begins to overfit after nine epochs. Let’s train a new network from scratch for nine epochs and then evaluate it on the test set."
   ]
  },
  {
   "cell_type": "code",
   "execution_count": 30,
   "metadata": {},
   "outputs": [
    {
     "name": "stdout",
     "output_type": "stream",
     "text": [
      "Train on 7982 samples, validate on 1000 samples\n",
      "Epoch 1/9\n",
      "7982/7982 [==============================] - 4s 441us/step - loss: 2.5401 - acc: 0.5226 - val_loss: 1.6792 - val_acc: 0.6540\n",
      "Epoch 2/9\n",
      "7982/7982 [==============================] - 3s 378us/step - loss: 1.3785 - acc: 0.7096 - val_loss: 1.2825 - val_acc: 0.7210\n",
      "Epoch 3/9\n",
      "7982/7982 [==============================] - 3s 415us/step - loss: 1.0207 - acc: 0.7781 - val_loss: 1.1321 - val_acc: 0.7550\n",
      "Epoch 4/9\n",
      "7982/7982 [==============================] - 3s 398us/step - loss: 0.8003 - acc: 0.8257 - val_loss: 1.0532 - val_acc: 0.7580\n",
      "Epoch 5/9\n",
      "7982/7982 [==============================] - 3s 376us/step - loss: 0.6392 - acc: 0.8629 - val_loss: 0.9753 - val_acc: 0.7950\n",
      "Epoch 6/9\n",
      "7982/7982 [==============================] - 3s 387us/step - loss: 0.5112 - acc: 0.8930 - val_loss: 0.9097 - val_acc: 0.8130\n",
      "Epoch 7/9\n",
      "7982/7982 [==============================] - 3s 382us/step - loss: 0.4115 - acc: 0.9141 - val_loss: 0.8913 - val_acc: 0.8240\n",
      "Epoch 8/9\n",
      "7982/7982 [==============================] - 3s 374us/step - loss: 0.3357 - acc: 0.9283 - val_loss: 0.8725 - val_acc: 0.8280\n",
      "Epoch 9/9\n",
      "7982/7982 [==============================] - 3s 376us/step - loss: 0.2787 - acc: 0.9371 - val_loss: 0.9345 - val_acc: 0.8010\n"
     ]
    },
    {
     "data": {
      "text/plain": [
       "<keras.callbacks.History at 0x175bd6ab860>"
      ]
     },
     "execution_count": 30,
     "metadata": {},
     "output_type": "execute_result"
    }
   ],
   "source": [
    "model = models.Sequential()\n",
    "model.add(layers.Dense(64, activation='relu', input_shape=(10000,)))\n",
    "model.add(layers.Dense(64, activation='relu'))\n",
    "model.add(layers.Dense(46, activation='softmax'))\n",
    "\n",
    "model.compile(optimizer='rmsprop', loss='categorical_crossentropy', metrics=['accuracy'])\n",
    "\n",
    "model.fit(partial_x_train,\n",
    "          partial_y_train,\n",
    "          epochs=9,\n",
    "          batch_size=512,\n",
    "          validation_data=(x_val, y_val))"
   ]
  },
  {
   "cell_type": "markdown",
   "metadata": {},
   "source": [
    "### 5. Results on test data"
   ]
  },
  {
   "cell_type": "code",
   "execution_count": 25,
   "metadata": {},
   "outputs": [
    {
     "name": "stdout",
     "output_type": "stream",
     "text": [
      "2208/2246 [============================>.] - ETA: 0s"
     ]
    }
   ],
   "source": [
    "results = model.evaluate(x_test, one_hot_test_labels)"
   ]
  },
  {
   "cell_type": "code",
   "execution_count": 26,
   "metadata": {},
   "outputs": [
    {
     "data": {
      "text/plain": [
       "[1.0225298037405854, 0.77738201251968353]"
      ]
     },
     "execution_count": 26,
     "metadata": {},
     "output_type": "execute_result"
    }
   ],
   "source": [
    "results"
   ]
  },
  {
   "cell_type": "markdown",
   "metadata": {},
   "source": [
    "This approach reaches an accuracy of ~80%.\n",
    "\n",
    "### 6. Comparison with random baseline\n",
    "\n",
    "Let's see what a random model would do with 46 classes"
   ]
  },
  {
   "cell_type": "code",
   "execution_count": 28,
   "metadata": {
    "collapsed": true
   },
   "outputs": [],
   "source": [
    "test_labels_copy = copy.copy(test_labels) # Make a copy of the test labels"
   ]
  },
  {
   "cell_type": "code",
   "execution_count": 29,
   "metadata": {
    "collapsed": true
   },
   "outputs": [],
   "source": [
    "np.random.shuffle(test_labels_copy) # Randomly shuffle the copy"
   ]
  },
  {
   "cell_type": "code",
   "execution_count": 30,
   "metadata": {
    "collapsed": true
   },
   "outputs": [],
   "source": [
    "hits_array = np.array(test_labels) == np.array(test_labels_copy) # Compare with actual labels"
   ]
  },
  {
   "cell_type": "code",
   "execution_count": 31,
   "metadata": {},
   "outputs": [
    {
     "data": {
      "text/plain": [
       "0.182546749777382"
      ]
     },
     "execution_count": 31,
     "metadata": {},
     "output_type": "execute_result"
    }
   ],
   "source": [
    "float(np.sum(hits_array)) / len(test_labels) # Fraction of correctly labelled by random classifier"
   ]
  },
  {
   "cell_type": "markdown",
   "metadata": {},
   "source": [
    "Thus a random classifier gets a result closer to 18%.\n",
    "\n",
    "This means our naive model does a pretty good job compared to a random baseline"
   ]
  },
  {
   "cell_type": "markdown",
   "metadata": {},
   "source": [
    "### 7. Assigments:\n",
    "1. Try to use only 4 units(instead of 64) in the second hidden layer of the above architecture.\n",
    "2. Try to use 2 hidden layers each with 32 units\n",
    "3. Try to use 2 hidden layers each with 128 units\n",
    "4. Try to use only 1 hidden layer (with 64 units)\n",
    "5. Try to use 3 hidden layers (each with 64 units)"
   ]
  },
  {
   "cell_type": "markdown",
   "metadata": {
    "collapsed": true
   },
   "source": [
    "### 7. Trying different models with different architectures."
   ]
  },
  {
   "cell_type": "code",
   "execution_count": 67,
   "metadata": {},
   "outputs": [],
   "source": [
    "model = models.Sequential()\n",
    "\n",
    "# Hidden layer 1 => 64 units\n",
    "model.add(layers.Dense(64, activation='relu', input_shape=(10000,)))\n",
    "\n",
    "# Hidden layer 2 => 4 units\n",
    "model.add(layers.Dense(4, activation='relu'))\n",
    "\n",
    "# Output Softmax Layer => 46 units\n",
    "model.add(layers.Dense(46, activation='softmax'))"
   ]
  },
  {
   "cell_type": "code",
   "execution_count": 68,
   "metadata": {},
   "outputs": [],
   "source": [
    "model.compile(optimizer='rmsprop', loss='categorical_crossentropy', metrics=['accuracy'])"
   ]
  },
  {
   "cell_type": "code",
   "execution_count": 70,
   "metadata": {},
   "outputs": [
    {
     "name": "stdout",
     "output_type": "stream",
     "text": [
      "Train on 7982 samples, validate on 1000 samples\n",
      "Epoch 1/30\n",
      "7982/7982 [==============================] - 4s 483us/step - loss: 3.4866 - acc: 0.3354 - val_loss: 3.1429 - val_acc: 0.4080\n",
      "Epoch 2/30\n",
      "7982/7982 [==============================] - 3s 374us/step - loss: 2.8852 - acc: 0.4203 - val_loss: 2.7044 - val_acc: 0.4180\n",
      "Epoch 3/30\n",
      "7982/7982 [==============================] - 3s 374us/step - loss: 2.4410 - acc: 0.4551 - val_loss: 2.3515 - val_acc: 0.4420\n",
      "Epoch 4/30\n",
      "7982/7982 [==============================] - 3s 374us/step - loss: 2.0857 - acc: 0.4957 - val_loss: 2.0528 - val_acc: 0.5170\n",
      "Epoch 5/30\n",
      "7982/7982 [==============================] - 3s 371us/step - loss: 1.7600 - acc: 0.6279 - val_loss: 1.7715 - val_acc: 0.6420\n",
      "Epoch 6/30\n",
      "7982/7982 [==============================] - 3s 371us/step - loss: 1.4674 - acc: 0.6858 - val_loss: 1.5688 - val_acc: 0.6540\n",
      "Epoch 7/30\n",
      "7982/7982 [==============================] - 3s 372us/step - loss: 1.2744 - acc: 0.6979 - val_loss: 1.4683 - val_acc: 0.6620\n",
      "Epoch 8/30\n",
      "7982/7982 [==============================] - 3s 372us/step - loss: 1.1546 - acc: 0.7226 - val_loss: 1.3971 - val_acc: 0.6860\n",
      "Epoch 9/30\n",
      "7982/7982 [==============================] - 3s 373us/step - loss: 1.0690 - acc: 0.7430 - val_loss: 1.3474 - val_acc: 0.7000\n",
      "Epoch 10/30\n",
      "7982/7982 [==============================] - 3s 374us/step - loss: 0.9998 - acc: 0.7526 - val_loss: 1.3282 - val_acc: 0.7030\n",
      "Epoch 11/30\n",
      "7982/7982 [==============================] - 3s 370us/step - loss: 0.9454 - acc: 0.7595 - val_loss: 1.3352 - val_acc: 0.6960\n",
      "Epoch 12/30\n",
      "7982/7982 [==============================] - 3s 372us/step - loss: 0.8972 - acc: 0.7670 - val_loss: 1.3039 - val_acc: 0.7040s - loss: 0.9032 - acc: 0.\n",
      "Epoch 13/30\n",
      "7982/7982 [==============================] - 3s 373us/step - loss: 0.8542 - acc: 0.7762 - val_loss: 1.3050 - val_acc: 0.7100\n",
      "Epoch 14/30\n",
      "7982/7982 [==============================] - 3s 372us/step - loss: 0.8167 - acc: 0.7848 - val_loss: 1.2948 - val_acc: 0.7110\n",
      "Epoch 15/30\n",
      "7982/7982 [==============================] - 3s 371us/step - loss: 0.7828 - acc: 0.7947 - val_loss: 1.3050 - val_acc: 0.7020\n",
      "Epoch 16/30\n",
      "7982/7982 [==============================] - 3s 371us/step - loss: 0.7500 - acc: 0.8006 - val_loss: 1.3027 - val_acc: 0.7090\n",
      "Epoch 17/30\n",
      "7982/7982 [==============================] - 3s 370us/step - loss: 0.7211 - acc: 0.8057 - val_loss: 1.3185 - val_acc: 0.7020\n",
      "Epoch 18/30\n",
      "7982/7982 [==============================] - 3s 372us/step - loss: 0.6937 - acc: 0.8132 - val_loss: 1.3248 - val_acc: 0.6980\n",
      "Epoch 19/30\n",
      "7982/7982 [==============================] - 3s 372us/step - loss: 0.6711 - acc: 0.8153 - val_loss: 1.3323 - val_acc: 0.7030\n",
      "Epoch 20/30\n",
      "7982/7982 [==============================] - 3s 370us/step - loss: 0.6448 - acc: 0.8231 - val_loss: 1.3615 - val_acc: 0.7040\n",
      "Epoch 21/30\n",
      "7982/7982 [==============================] - 3s 373us/step - loss: 0.6274 - acc: 0.8281 - val_loss: 1.3588 - val_acc: 0.7080\n",
      "Epoch 22/30\n",
      "7982/7982 [==============================] - 3s 372us/step - loss: 0.6054 - acc: 0.8353 - val_loss: 1.3712 - val_acc: 0.6980\n",
      "Epoch 23/30\n",
      "7982/7982 [==============================] - 3s 372us/step - loss: 0.5869 - acc: 0.8396 - val_loss: 1.3931 - val_acc: 0.7070\n",
      "Epoch 24/30\n",
      "7982/7982 [==============================] - 3s 373us/step - loss: 0.5687 - acc: 0.8428 - val_loss: 1.3942 - val_acc: 0.7010\n",
      "Epoch 25/30\n",
      "7982/7982 [==============================] - 3s 371us/step - loss: 0.5509 - acc: 0.8475 - val_loss: 1.4074 - val_acc: 0.7100\n",
      "Epoch 26/30\n",
      "7982/7982 [==============================] - 3s 371us/step - loss: 0.5342 - acc: 0.8495 - val_loss: 1.4180 - val_acc: 0.7130\n",
      "Epoch 27/30\n",
      "7982/7982 [==============================] - 3s 372us/step - loss: 0.5192 - acc: 0.8549 - val_loss: 1.4465 - val_acc: 0.7070\n",
      "Epoch 28/30\n",
      "7982/7982 [==============================] - 3s 374us/step - loss: 0.5032 - acc: 0.8581 - val_loss: 1.4659 - val_acc: 0.7090\n",
      "Epoch 29/30\n",
      "7982/7982 [==============================] - 3s 371us/step - loss: 0.4903 - acc: 0.8567 - val_loss: 1.4985 - val_acc: 0.7070\n",
      "Epoch 30/30\n",
      "7982/7982 [==============================] - 3s 372us/step - loss: 0.4760 - acc: 0.8586 - val_loss: 1.4978 - val_acc: 0.7130\n"
     ]
    }
   ],
   "source": [
    "history = model.fit(partial_x_train,\n",
    "                    partial_y_train,\n",
    "                    epochs=30,\n",
    "                    batch_size=512,\n",
    "                    validation_data=(x_val, y_val))"
   ]
  },
  {
   "cell_type": "markdown",
   "metadata": {},
   "source": [
    "###  Plotting loss and accuracy"
   ]
  },
  {
   "cell_type": "code",
   "execution_count": 71,
   "metadata": {},
   "outputs": [
    {
     "data": {
      "image/png": "[encoded data removed]",
      "text/plain": [
       "<Figure size 432x288 with 1 Axes>"
      ]
     },
     "metadata": {},
     "output_type": "display_data"
    }
   ],
   "source": [
    "loss = history.history['loss']\n",
    "val_loss = history.history['val_loss']\n",
    "\n",
    "epochs = range(1, len(loss) + 1)\n",
    "\n",
    "plt.plot(epochs, loss, 'bo', label='Training loss')\n",
    "plt.plot(epochs, val_loss, 'b', label='Validation loss')\n",
    "plt.title('Training and validation loss')\n",
    "plt.xlabel('Epochs')\n",
    "plt.ylabel('Loss')\n",
    "plt.legend()\n",
    "plt.show()"
   ]
  },
  {
   "cell_type": "code",
   "execution_count": 72,
   "metadata": {},
   "outputs": [
    {
     "data": {
      "image/png": "[encoded data removed]",
      "text/plain": [
       "<Figure size 432x288 with 1 Axes>"
      ]
     },
     "metadata": {},
     "output_type": "display_data"
    }
   ],
   "source": [
    "acc = history.history['acc']\n",
    "val_acc = history.history['val_acc']\n",
    "\n",
    "plt.plot(epochs, acc, 'bo', label='Training acc')\n",
    "plt.plot(epochs, val_acc, 'b', label='Validation acc')\n",
    "plt.title('Training and validation accuracy')\n",
    "plt.xlabel('Epochs')\n",
    "plt.ylabel('Loss')\n",
    "plt.legend()\n",
    "plt.show()"
   ]
  },
  {
   "cell_type": "markdown",
   "metadata": {},
   "source": [
    "After around 10 epochs the model starts to overfit."
   ]
  },
  {
   "cell_type": "code",
   "execution_count": 73,
   "metadata": {},
   "outputs": [],
   "source": [
    "model = models.Sequential()\n",
    "\n",
    "# Hidden layer 1 => 32 units\n",
    "model.add(layers.Dense(32, activation='relu', input_shape=(10000,)))\n",
    "\n",
    "# Hidden layer 2 => 32 units\n",
    "model.add(layers.Dense(32, activation='relu'))\n",
    "\n",
    "# Output Softmax Layer => 46 units\n",
    "model.add(layers.Dense(46, activation='softmax'))"
   ]
  },
  {
   "cell_type": "code",
   "execution_count": 74,
   "metadata": {},
   "outputs": [],
   "source": [
    "model.compile(optimizer='rmsprop', loss='categorical_crossentropy', metrics=['accuracy'])"
   ]
  },
  {
   "cell_type": "code",
   "execution_count": 75,
   "metadata": {},
   "outputs": [
    {
     "name": "stdout",
     "output_type": "stream",
     "text": [
      "Train on 7982 samples, validate on 1000 samples\n",
      "Epoch 1/20\n",
      "7982/7982 [==============================] - 3s 437us/step - loss: 3.3069 - acc: 0.3252 - val_loss: 2.6843 - val_acc: 0.5200\n",
      "Epoch 2/20\n",
      "7982/7982 [==============================] - 3s 358us/step - loss: 2.2678 - acc: 0.5898 - val_loss: 1.9453 - val_acc: 0.6120\n",
      "Epoch 3/20\n",
      "7982/7982 [==============================] - 3s 364us/step - loss: 1.6566 - acc: 0.6693 - val_loss: 1.5442 - val_acc: 0.6660\n",
      "Epoch 4/20\n",
      "7982/7982 [==============================] - 3s 340us/step - loss: 1.3134 - acc: 0.7246 - val_loss: 1.3423 - val_acc: 0.7020\n",
      "Epoch 5/20\n",
      "7982/7982 [==============================] - 3s 340us/step - loss: 1.0975 - acc: 0.7642 - val_loss: 1.2172 - val_acc: 0.7360\n",
      "Epoch 6/20\n",
      "7982/7982 [==============================] - 3s 340us/step - loss: 0.9354 - acc: 0.7989 - val_loss: 1.1289 - val_acc: 0.7580\n",
      "Epoch 7/20\n",
      "7982/7982 [==============================] - 3s 343us/step - loss: 0.8075 - acc: 0.8269 - val_loss: 1.0677 - val_acc: 0.7770\n",
      "Epoch 8/20\n",
      "7982/7982 [==============================] - 3s 342us/step - loss: 0.7005 - acc: 0.8525 - val_loss: 1.0340 - val_acc: 0.7800\n",
      "Epoch 9/20\n",
      "7982/7982 [==============================] - 3s 340us/step - loss: 0.6065 - acc: 0.8772 - val_loss: 0.9990 - val_acc: 0.7830\n",
      "Epoch 10/20\n",
      "7982/7982 [==============================] - 3s 339us/step - loss: 0.5284 - acc: 0.8921 - val_loss: 0.9724 - val_acc: 0.7990\n",
      "Epoch 11/20\n",
      "7982/7982 [==============================] - 3s 357us/step - loss: 0.4593 - acc: 0.9058 - val_loss: 0.9556 - val_acc: 0.8050\n",
      "Epoch 12/20\n",
      "7982/7982 [==============================] - 3s 344us/step - loss: 0.4022 - acc: 0.9163 - val_loss: 0.9441 - val_acc: 0.8080\n",
      "Epoch 13/20\n",
      "7982/7982 [==============================] - 3s 344us/step - loss: 0.3511 - acc: 0.9250 - val_loss: 0.9427 - val_acc: 0.8000\n",
      "Epoch 14/20\n",
      "7982/7982 [==============================] - 3s 348us/step - loss: 0.3107 - acc: 0.9323 - val_loss: 0.9590 - val_acc: 0.8070\n",
      "Epoch 15/20\n",
      "7982/7982 [==============================] - 3s 345us/step - loss: 0.2749 - acc: 0.9385 - val_loss: 0.9651 - val_acc: 0.8140\n",
      "Epoch 16/20\n",
      "7982/7982 [==============================] - 3s 361us/step - loss: 0.2479 - acc: 0.9451 - val_loss: 0.9809 - val_acc: 0.7970\n",
      "Epoch 17/20\n",
      "7982/7982 [==============================] - 3s 337us/step - loss: 0.2219 - acc: 0.9493 - val_loss: 0.9796 - val_acc: 0.8110\n",
      "Epoch 18/20\n",
      "7982/7982 [==============================] - 3s 344us/step - loss: 0.2031 - acc: 0.9501 - val_loss: 1.0087 - val_acc: 0.8030\n",
      "Epoch 19/20\n",
      "7982/7982 [==============================] - 3s 342us/step - loss: 0.1829 - acc: 0.9539 - val_loss: 1.0107 - val_acc: 0.8010\n",
      "Epoch 20/20\n",
      "7982/7982 [==============================] - 3s 339us/step - loss: 0.1704 - acc: 0.9548 - val_loss: 1.0140 - val_acc: 0.8020\n"
     ]
    }
   ],
   "source": [
    "history = model.fit(partial_x_train,\n",
    "                    partial_y_train,\n",
    "                    epochs=20,\n",
    "                    batch_size=512,\n",
    "                    validation_data=(x_val, y_val))"
   ]
  },
  {
   "cell_type": "markdown",
   "metadata": {},
   "source": [
    "###  Plotting loss and accuracy"
   ]
  },
  {
   "cell_type": "code",
   "execution_count": 76,
   "metadata": {},
   "outputs": [
    {
     "data": {
      "image/png": "[encoded data removed]",
      "text/plain": [
       "<Figure size 432x288 with 1 Axes>"
      ]
     },
     "metadata": {},
     "output_type": "display_data"
    }
   ],
   "source": [
    "loss = history.history['loss']\n",
    "val_loss = history.history['val_loss']\n",
    "\n",
    "epochs = range(1, len(loss) + 1)\n",
    "\n",
    "plt.plot(epochs, loss, 'bo', label='Training loss')\n",
    "plt.plot(epochs, val_loss, 'b', label='Validation loss')\n",
    "plt.title('Training and validation loss')\n",
    "plt.xlabel('Epochs')\n",
    "plt.ylabel('Loss')\n",
    "plt.legend()\n",
    "plt.show()"
   ]
  },
  {
   "cell_type": "code",
   "execution_count": 77,
   "metadata": {},
   "outputs": [
    {
     "data": {
      "image/png": "[encoded data removed]",
      "text/plain": [
       "<Figure size 432x288 with 1 Axes>"
      ]
     },
     "metadata": {},
     "output_type": "display_data"
    }
   ],
   "source": [
    "acc = history.history['acc']\n",
    "val_acc = history.history['val_acc']\n",
    "\n",
    "plt.plot(epochs, acc, 'bo', label='Training acc')\n",
    "plt.plot(epochs, val_acc, 'b', label='Validation acc')\n",
    "plt.title('Training and validation accuracy')\n",
    "plt.xlabel('Epochs')\n",
    "plt.ylabel('Loss')\n",
    "plt.legend()\n",
    "plt.show()"
   ]
  },
  {
   "cell_type": "markdown",
   "metadata": {},
   "source": [
    "After 11 epochs the model starts to overfit."
   ]
  },
  {
   "cell_type": "code",
   "execution_count": 78,
   "metadata": {},
   "outputs": [],
   "source": [
    "model = models.Sequential()\n",
    "\n",
    "# Hidden layer 1 => 128 units\n",
    "model.add(layers.Dense(128, activation='relu', input_shape=(10000,)))\n",
    "\n",
    "# Hidden layer 2 => 128 units\n",
    "model.add(layers.Dense(128, activation='relu'))\n",
    "\n",
    "# Output Softmax Layer => 46 units\n",
    "model.add(layers.Dense(46, activation='softmax'))"
   ]
  },
  {
   "cell_type": "code",
   "execution_count": 79,
   "metadata": {},
   "outputs": [],
   "source": [
    "model.compile(optimizer='rmsprop', loss='categorical_crossentropy', metrics=['accuracy'])"
   ]
  },
  {
   "cell_type": "code",
   "execution_count": 80,
   "metadata": {},
   "outputs": [
    {
     "name": "stdout",
     "output_type": "stream",
     "text": [
      "Train on 7982 samples, validate on 1000 samples\n",
      "Epoch 1/20\n",
      "7982/7982 [==============================] - 5s 577us/step - loss: 2.2240 - acc: 0.5659 - val_loss: 1.3755 - val_acc: 0.6950\n",
      "Epoch 2/20\n",
      "7982/7982 [==============================] - 4s 463us/step - loss: 1.0902 - acc: 0.7611 - val_loss: 1.0934 - val_acc: 0.7800\n",
      "Epoch 3/20\n",
      "7982/7982 [==============================] - 4s 459us/step - loss: 0.7542 - acc: 0.8411 - val_loss: 0.9668 - val_acc: 0.7890\n",
      "Epoch 4/20\n",
      "7982/7982 [==============================] - 4s 467us/step - loss: 0.5457 - acc: 0.8849 - val_loss: 0.9480 - val_acc: 0.8210\n",
      "Epoch 5/20\n",
      "7982/7982 [==============================] - 4s 461us/step - loss: 0.4000 - acc: 0.9159 - val_loss: 0.9194 - val_acc: 0.7990\n",
      "Epoch 6/20\n",
      "7982/7982 [==============================] - 4s 460us/step - loss: 0.3119 - acc: 0.9337 - val_loss: 0.9367 - val_acc: 0.8000\n",
      "Epoch 7/20\n",
      "7982/7982 [==============================] - 4s 456us/step - loss: 0.2453 - acc: 0.9435 - val_loss: 0.9083 - val_acc: 0.8120\n",
      "Epoch 8/20\n",
      "7982/7982 [==============================] - 4s 463us/step - loss: 0.2041 - acc: 0.9504 - val_loss: 0.9396 - val_acc: 0.8070\n",
      "Epoch 9/20\n",
      "7982/7982 [==============================] - 4s 458us/step - loss: 0.1778 - acc: 0.9513 - val_loss: 0.9515 - val_acc: 0.8110\n",
      "Epoch 10/20\n",
      "7982/7982 [==============================] - 4s 458us/step - loss: 0.1699 - acc: 0.9526 - val_loss: 0.9817 - val_acc: 0.8020\n",
      "Epoch 11/20\n",
      "7982/7982 [==============================] - 4s 457us/step - loss: 0.1388 - acc: 0.9558 - val_loss: 0.9416 - val_acc: 0.8190\n",
      "Epoch 12/20\n",
      "7982/7982 [==============================] - 4s 456us/step - loss: 0.1429 - acc: 0.9551 - val_loss: 1.0067 - val_acc: 0.8130\n",
      "Epoch 13/20\n",
      "7982/7982 [==============================] - 4s 456us/step - loss: 0.1315 - acc: 0.9563 - val_loss: 1.0799 - val_acc: 0.7930\n",
      "Epoch 14/20\n",
      "7982/7982 [==============================] - 4s 462us/step - loss: 0.1261 - acc: 0.9577 - val_loss: 1.0085 - val_acc: 0.8120\n",
      "Epoch 15/20\n",
      "7982/7982 [==============================] - 4s 457us/step - loss: 0.1184 - acc: 0.9565 - val_loss: 1.0372 - val_acc: 0.8100\n",
      "Epoch 16/20\n",
      "7982/7982 [==============================] - 4s 468us/step - loss: 0.1221 - acc: 0.9565 - val_loss: 1.1791 - val_acc: 0.7830\n",
      "Epoch 17/20\n",
      "7982/7982 [==============================] - 4s 463us/step - loss: 0.1156 - acc: 0.9565 - val_loss: 1.0834 - val_acc: 0.8040\n",
      "Epoch 18/20\n",
      "7982/7982 [==============================] - 4s 459us/step - loss: 0.1102 - acc: 0.9577 - val_loss: 1.0843 - val_acc: 0.8020\n",
      "Epoch 19/20\n",
      "7982/7982 [==============================] - 4s 460us/step - loss: 0.1072 - acc: 0.9577 - val_loss: 1.0668 - val_acc: 0.8030\n",
      "Epoch 20/20\n",
      "7982/7982 [==============================] - 4s 459us/step - loss: 0.1081 - acc: 0.9578 - val_loss: 1.1225 - val_acc: 0.7970\n"
     ]
    }
   ],
   "source": [
    "history = model.fit(partial_x_train,\n",
    "                    partial_y_train,\n",
    "                    epochs=20,\n",
    "                    batch_size=512,\n",
    "                    validation_data=(x_val, y_val))"
   ]
  },
  {
   "cell_type": "markdown",
   "metadata": {},
   "source": [
    "###  Plotting loss and accuracy"
   ]
  },
  {
   "cell_type": "code",
   "execution_count": 81,
   "metadata": {},
   "outputs": [
    {
     "data": {
      "image/png": "[encoded data removed]",
      "text/plain": [
       "<Figure size 432x288 with 1 Axes>"
      ]
     },
     "metadata": {},
     "output_type": "display_data"
    }
   ],
   "source": [
    "loss = history.history['loss']\n",
    "val_loss = history.history['val_loss']\n",
    "\n",
    "epochs = range(1, len(loss) + 1)\n",
    "\n",
    "plt.plot(epochs, loss, 'bo', label='Training loss')\n",
    "plt.plot(epochs, val_loss, 'b', label='Validation loss')\n",
    "plt.title('Training and validation loss')\n",
    "plt.xlabel('Epochs')\n",
    "plt.ylabel('Loss')\n",
    "plt.legend()\n",
    "plt.show()"
   ]
  },
  {
   "cell_type": "code",
   "execution_count": 82,
   "metadata": {},
   "outputs": [
    {
     "data": {
      "image/png": "[encoded data removed]",
      "text/plain": [
       "<Figure size 432x288 with 1 Axes>"
      ]
     },
     "metadata": {},
     "output_type": "display_data"
    }
   ],
   "source": [
    "acc = history.history['acc']\n",
    "val_acc = history.history['val_acc']\n",
    "\n",
    "plt.plot(epochs, acc, 'bo', label='Training acc')\n",
    "plt.plot(epochs, val_acc, 'b', label='Validation acc')\n",
    "plt.title('Training and validation accuracy')\n",
    "plt.xlabel('Epochs')\n",
    "plt.ylabel('Loss')\n",
    "plt.legend()\n",
    "plt.show()"
   ]
  },
  {
   "cell_type": "markdown",
   "metadata": {},
   "source": [
    "After 5 epochs the model starts to overfit."
   ]
  },
  {
   "cell_type": "code",
   "execution_count": 83,
   "metadata": {},
   "outputs": [],
   "source": [
    "model = models.Sequential()\n",
    "\n",
    "# Hidden layer 1 => 64 units\n",
    "model.add(layers.Dense(64, activation='relu', input_shape=(10000,)))\n",
    "\n",
    "# Output Softmax Layer => 46 units\n",
    "model.add(layers.Dense(46, activation='softmax'))"
   ]
  },
  {
   "cell_type": "code",
   "execution_count": 84,
   "metadata": {},
   "outputs": [],
   "source": [
    "model.compile(optimizer='rmsprop', loss='categorical_crossentropy', metrics=['accuracy'])"
   ]
  },
  {
   "cell_type": "code",
   "execution_count": 85,
   "metadata": {},
   "outputs": [
    {
     "name": "stdout",
     "output_type": "stream",
     "text": [
      "Train on 7982 samples, validate on 1000 samples\n",
      "Epoch 1/20\n",
      "7982/7982 [==============================] - 4s 503us/step - loss: 2.6259 - acc: 0.5596 - val_loss: 1.8484 - val_acc: 0.6730\n",
      "Epoch 2/20\n",
      "7982/7982 [==============================] - 3s 398us/step - loss: 1.4824 - acc: 0.7326 - val_loss: 1.3511 - val_acc: 0.7330\n",
      "Epoch 3/20\n",
      "7982/7982 [==============================] - 3s 376us/step - loss: 1.0653 - acc: 0.7942 - val_loss: 1.1379 - val_acc: 0.7710\n",
      "Epoch 4/20\n",
      "7982/7982 [==============================] - 3s 384us/step - loss: 0.8275 - acc: 0.8374 - val_loss: 1.0099 - val_acc: 0.7970\n",
      "Epoch 5/20\n",
      "7982/7982 [==============================] - 3s 380us/step - loss: 0.6666 - acc: 0.8736 - val_loss: 0.9374 - val_acc: 0.8020\n",
      "Epoch 6/20\n",
      "7982/7982 [==============================] - 3s 376us/step - loss: 0.5456 - acc: 0.8949 - val_loss: 0.8780 - val_acc: 0.8130\n",
      "Epoch 7/20\n",
      "7982/7982 [==============================] - 3s 378us/step - loss: 0.4510 - acc: 0.9121 - val_loss: 0.8502 - val_acc: 0.8200\n",
      "Epoch 8/20\n",
      "7982/7982 [==============================] - 3s 390us/step - loss: 0.3781 - acc: 0.9233 - val_loss: 0.8273 - val_acc: 0.8220\n",
      "Epoch 9/20\n",
      "7982/7982 [==============================] - 3s 378us/step - loss: 0.3184 - acc: 0.9345 - val_loss: 0.8169 - val_acc: 0.8200\n",
      "Epoch 10/20\n",
      "7982/7982 [==============================] - 3s 378us/step - loss: 0.2710 - acc: 0.9419 - val_loss: 0.8034 - val_acc: 0.8260\n",
      "Epoch 11/20\n",
      "7982/7982 [==============================] - 3s 375us/step - loss: 0.2367 - acc: 0.9450 - val_loss: 0.8185 - val_acc: 0.8250\n",
      "Epoch 12/20\n",
      "7982/7982 [==============================] - 3s 374us/step - loss: 0.2047 - acc: 0.9495 - val_loss: 0.8228 - val_acc: 0.8250\n",
      "Epoch 13/20\n",
      "7982/7982 [==============================] - 3s 386us/step - loss: 0.1832 - acc: 0.9508 - val_loss: 0.8280 - val_acc: 0.8210\n",
      "Epoch 14/20\n",
      "7982/7982 [==============================] - 3s 373us/step - loss: 0.1651 - acc: 0.9539 - val_loss: 0.8422 - val_acc: 0.8170\n",
      "Epoch 15/20\n",
      "7982/7982 [==============================] - 3s 379us/step - loss: 0.1492 - acc: 0.9554 - val_loss: 0.8516 - val_acc: 0.8220\n",
      "Epoch 16/20\n",
      "7982/7982 [==============================] - 3s 392us/step - loss: 0.1401 - acc: 0.9546 - val_loss: 0.8561 - val_acc: 0.8160\n",
      "Epoch 17/20\n",
      "7982/7982 [==============================] - 3s 388us/step - loss: 0.1299 - acc: 0.9577 - val_loss: 0.8721 - val_acc: 0.8180\n",
      "Epoch 18/20\n",
      "7982/7982 [==============================] - 3s 395us/step - loss: 0.1219 - acc: 0.9565 - val_loss: 0.8963 - val_acc: 0.8150\n",
      "Epoch 19/20\n",
      "7982/7982 [==============================] - 3s 371us/step - loss: 0.1145 - acc: 0.9574 - val_loss: 0.9066 - val_acc: 0.8170\n",
      "Epoch 20/20\n",
      "7982/7982 [==============================] - 3s 385us/step - loss: 0.1113 - acc: 0.9588 - val_loss: 0.9216 - val_acc: 0.8130\n"
     ]
    }
   ],
   "source": [
    "history = model.fit(partial_x_train,\n",
    "                    partial_y_train,\n",
    "                    epochs=20,\n",
    "                    batch_size=512,\n",
    "                    validation_data=(x_val, y_val))"
   ]
  },
  {
   "cell_type": "markdown",
   "metadata": {},
   "source": [
    "###  Plotting loss and accuracy"
   ]
  },
  {
   "cell_type": "code",
   "execution_count": 86,
   "metadata": {},
   "outputs": [
    {
     "data": {
      "image/png": "[encoded data removed]",
      "text/plain": [
       "<Figure size 432x288 with 1 Axes>"
      ]
     },
     "metadata": {},
     "output_type": "display_data"
    }
   ],
   "source": [
    "loss = history.history['loss']\n",
    "val_loss = history.history['val_loss']\n",
    "\n",
    "epochs = range(1, len(loss) + 1)\n",
    "\n",
    "plt.plot(epochs, loss, 'bo', label='Training loss')\n",
    "plt.plot(epochs, val_loss, 'b', label='Validation loss')\n",
    "plt.title('Training and validation loss')\n",
    "plt.xlabel('Epochs')\n",
    "plt.ylabel('Loss')\n",
    "plt.legend()\n",
    "plt.show()"
   ]
  },
  {
   "cell_type": "code",
   "execution_count": 87,
   "metadata": {},
   "outputs": [
    {
     "data": {
      "image/png": "[encoded data removed]",
      "text/plain": [
       "<Figure size 432x288 with 1 Axes>"
      ]
     },
     "metadata": {},
     "output_type": "display_data"
    }
   ],
   "source": [
    "acc = history.history['acc']\n",
    "val_acc = history.history['val_acc']\n",
    "\n",
    "plt.plot(epochs, acc, 'bo', label='Training acc')\n",
    "plt.plot(epochs, val_acc, 'b', label='Validation acc')\n",
    "plt.title('Training and validation accuracy')\n",
    "plt.xlabel('Epochs')\n",
    "plt.ylabel('Loss')\n",
    "plt.legend()\n",
    "plt.show()"
   ]
  },
  {
   "cell_type": "markdown",
   "metadata": {},
   "source": [
    "After 9 epochs the model starts to overfit."
   ]
  },
  {
   "cell_type": "code",
   "execution_count": 88,
   "metadata": {},
   "outputs": [],
   "source": [
    "model = models.Sequential()\n",
    "\n",
    "# Hidden layer 1 => 64 units\n",
    "model.add(layers.Dense(64, activation='relu', input_shape=(10000,)))\n",
    "\n",
    "# Hidden layer 2 => 64 units\n",
    "model.add(layers.Dense(64, activation='relu'))\n",
    "\n",
    "# Hidden layer 3 => 64 units\n",
    "model.add(layers.Dense(64, activation='relu'))\n",
    "\n",
    "# Output Softmax Layer => 46 units\n",
    "model.add(layers.Dense(46, activation='softmax'))"
   ]
  },
  {
   "cell_type": "code",
   "execution_count": 89,
   "metadata": {},
   "outputs": [],
   "source": [
    "model.compile(optimizer='rmsprop', loss='categorical_crossentropy', metrics=['accuracy'])"
   ]
  },
  {
   "cell_type": "code",
   "execution_count": 90,
   "metadata": {},
   "outputs": [
    {
     "name": "stdout",
     "output_type": "stream",
     "text": [
      "Train on 7982 samples, validate on 1000 samples\n",
      "Epoch 1/20\n",
      "7982/7982 [==============================] - 4s 540us/step - loss: 2.6205 - acc: 0.4582 - val_loss: 1.7421 - val_acc: 0.5760\n",
      "Epoch 2/20\n",
      "7982/7982 [==============================] - 3s 386us/step - loss: 1.4779 - acc: 0.6562 - val_loss: 1.3724 - val_acc: 0.6760\n",
      "Epoch 3/20\n",
      "7982/7982 [==============================] - 3s 380us/step - loss: 1.1156 - acc: 0.7471 - val_loss: 1.2629 - val_acc: 0.7030\n",
      "Epoch 4/20\n",
      "7982/7982 [==============================] - 3s 383us/step - loss: 0.8807 - acc: 0.8052 - val_loss: 1.0959 - val_acc: 0.7670\n",
      "Epoch 5/20\n",
      "7982/7982 [==============================] - 3s 382us/step - loss: 0.7043 - acc: 0.8384 - val_loss: 1.0383 - val_acc: 0.7730\n",
      "Epoch 6/20\n",
      "7982/7982 [==============================] - 3s 381us/step - loss: 0.5606 - acc: 0.8716 - val_loss: 1.0049 - val_acc: 0.7890\n",
      "Epoch 7/20\n",
      "7982/7982 [==============================] - 3s 397us/step - loss: 0.4385 - acc: 0.9062 - val_loss: 1.0246 - val_acc: 0.7860\n",
      "Epoch 8/20\n",
      "7982/7982 [==============================] - 3s 382us/step - loss: 0.3568 - acc: 0.9237 - val_loss: 0.9842 - val_acc: 0.7930\n",
      "Epoch 9/20\n",
      "7982/7982 [==============================] - 3s 381us/step - loss: 0.2874 - acc: 0.9364 - val_loss: 1.0174 - val_acc: 0.7970\n",
      "Epoch 10/20\n",
      "7982/7982 [==============================] - 3s 390us/step - loss: 0.2520 - acc: 0.9434 - val_loss: 1.0242 - val_acc: 0.7910\n",
      "Epoch 11/20\n",
      "7982/7982 [==============================] - 3s 396us/step - loss: 0.2068 - acc: 0.9501 - val_loss: 1.0197 - val_acc: 0.8050\n",
      "Epoch 12/20\n",
      "7982/7982 [==============================] - 3s 378us/step - loss: 0.1852 - acc: 0.9524 - val_loss: 1.0302 - val_acc: 0.8160\n",
      "Epoch 13/20\n",
      "7982/7982 [==============================] - 3s 383us/step - loss: 0.1700 - acc: 0.9548 - val_loss: 1.0599 - val_acc: 0.8010\n",
      "Epoch 14/20\n",
      "7982/7982 [==============================] - 3s 401us/step - loss: 0.1622 - acc: 0.9562 - val_loss: 1.1435 - val_acc: 0.7890\n",
      "Epoch 15/20\n",
      "7982/7982 [==============================] - 3s 399us/step - loss: 0.1429 - acc: 0.9562 - val_loss: 1.0680 - val_acc: 0.8040\n",
      "Epoch 16/20\n",
      "7982/7982 [==============================] - 3s 390us/step - loss: 0.1414 - acc: 0.9567 - val_loss: 1.0746 - val_acc: 0.8020\n",
      "Epoch 17/20\n",
      "7982/7982 [==============================] - 3s 378us/step - loss: 0.1350 - acc: 0.9568 - val_loss: 1.1171 - val_acc: 0.7970\n",
      "Epoch 18/20\n",
      "7982/7982 [==============================] - 3s 392us/step - loss: 0.1285 - acc: 0.9582 - val_loss: 1.3184 - val_acc: 0.7610\n",
      "Epoch 19/20\n",
      "7982/7982 [==============================] - 3s 377us/step - loss: 0.1333 - acc: 0.9554 - val_loss: 1.1766 - val_acc: 0.7980\n",
      "Epoch 20/20\n",
      "7982/7982 [==============================] - 3s 389us/step - loss: 0.1198 - acc: 0.9579 - val_loss: 1.1154 - val_acc: 0.8000\n"
     ]
    }
   ],
   "source": [
    "history = model.fit(partial_x_train,\n",
    "                    partial_y_train,\n",
    "                    epochs=20,\n",
    "                    batch_size=512,\n",
    "                    validation_data=(x_val, y_val))"
   ]
  },
  {
   "cell_type": "markdown",
   "metadata": {},
   "source": [
    "###  Plotting loss and accuracy"
   ]
  },
  {
   "cell_type": "code",
   "execution_count": 91,
   "metadata": {},
   "outputs": [
    {
     "data": {
      "image/png": "[encoded data removed]",
      "text/plain": [
       "<Figure size 432x288 with 1 Axes>"
      ]
     },
     "metadata": {},
     "output_type": "display_data"
    }
   ],
   "source": [
    "loss = history.history['loss']\n",
    "val_loss = history.history['val_loss']\n",
    "\n",
    "epochs = range(1, len(loss) + 1)\n",
    "\n",
    "plt.plot(epochs, loss, 'bo', label='Training loss')\n",
    "plt.plot(epochs, val_loss, 'b', label='Validation loss')\n",
    "plt.title('Training and validation loss')\n",
    "plt.xlabel('Epochs')\n",
    "plt.ylabel('Loss')\n",
    "plt.legend()\n",
    "plt.show()"
   ]
  },
  {
   "cell_type": "code",
   "execution_count": 92,
   "metadata": {},
   "outputs": [
    {
     "data": {
      "image/png": "[encoded data removed]",
      "text/plain": [
       "<Figure size 432x288 with 1 Axes>"
      ]
     },
     "metadata": {},
     "output_type": "display_data"
    }
   ],
   "source": [
    "acc = history.history['acc']\n",
    "val_acc = history.history['val_acc']\n",
    "\n",
    "plt.plot(epochs, acc, 'bo', label='Training acc')\n",
    "plt.plot(epochs, val_acc, 'b', label='Validation acc')\n",
    "plt.title('Training and validation accuracy')\n",
    "plt.xlabel('Epochs')\n",
    "plt.ylabel('Loss')\n",
    "plt.legend()\n",
    "plt.show()"
   ]
  },
  {
   "cell_type": "markdown",
   "metadata": {},
   "source": [
    "After 13 epochs the model starts to overfit."
   ]
  },
  {
   "cell_type": "code",
   "execution_count": null,
   "metadata": {},
   "outputs": [],
   "source": []
  }
 ],
 "metadata": {
  "kernelspec": {
   "display_name": "Python 3",
   "language": "python",
   "name": "python3"
  },
  "language_info": {
   "codemirror_mode": {
    "name": "ipython",
    "version": 3
   },
   "file_extension": ".py",
   "mimetype": "text/x-python",
   "name": "python",
   "nbconvert_exporter": "python",
   "pygments_lexer": "ipython3",
   "version": "3.6.5"
  }
 },
 "nbformat": 4,
 "nbformat_minor": 2
}
