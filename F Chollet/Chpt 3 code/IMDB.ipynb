{
 "cells": [
  {
   "cell_type": "markdown",
   "metadata": {},
   "source": [
    "## IMDB Dataset - binary classification of movie reviews\n",
    "A set of 50,000 highly polarized reviews from the Internet Movie Database. They’re split into 25,000 reviews for training and 25,000 reviews for testing, each set consisting of 50% negative and 50% positive reviews.\n",
    "\n",
    "IMDB dataset comes packaged with Keras. It has already been preprocessed: the reviews (sequences of words) have been turned into sequences of integers(ranks based on frequence), where each integer stands for a specific word in a dictionary."
   ]
  },
  {
   "cell_type": "markdown",
   "metadata": {},
   "source": [
    "### 1. Loading the dataset"
   ]
  },
  {
   "cell_type": "code",
   "execution_count": 2,
   "metadata": {},
   "outputs": [],
   "source": [
    "import os\n",
    "os.environ[\"TF_CPP_MIN_LOG_LEVEL\"]=\"3\""
   ]
  },
  {
   "cell_type": "code",
   "execution_count": 3,
   "metadata": {},
   "outputs": [],
   "source": [
    "import numpy as np\n",
    "from keras.datasets import imdb\n",
    "from keras import models\n",
    "from keras import layers\n",
    "import matplotlib.pyplot as plt"
   ]
  },
  {
   "cell_type": "code",
   "execution_count": 4,
   "metadata": {},
   "outputs": [],
   "source": [
    "(train_data, train_labels), (test_data, test_labels) = imdb.load_data(num_words=10000)"
   ]
  },
  {
   "cell_type": "markdown",
   "metadata": {},
   "source": [
    "* The argument **num_words=10000** means you’ll only keep the top 10,000 most frequently\n",
    "occurring words in the training data. Rare words will be discarded. This allows\n",
    "you to work with vector data of manageable size.\n",
    "* The variables train_data and test_data are lists of reviews; each review is a list of\n",
    "word indices (encoding a sequence of words). train_labels and test_labels are\n",
    "lists of 0s and 1s, where 0 stands for negative and 1 stands for positive:"
   ]
  },
  {
   "cell_type": "code",
   "execution_count": 9,
   "metadata": {},
   "outputs": [
    {
     "data": {
      "text/plain": [
       "218"
      ]
     },
     "execution_count": 9,
     "metadata": {},
     "output_type": "execute_result"
    }
   ],
   "source": [
    "len(train_data[0])"
   ]
  },
  {
   "cell_type": "markdown",
   "metadata": {},
   "source": [
    "The reviews are already preprocessed. Instead of words, we have ranks of the words based on frequency."
   ]
  },
  {
   "cell_type": "code",
   "execution_count": 10,
   "metadata": {},
   "outputs": [
    {
     "data": {
      "text/plain": [
       "[1,\n",
       " 14,\n",
       " 22,\n",
       " 16,\n",
       " 43,\n",
       " 530,\n",
       " 973,\n",
       " 1622,\n",
       " 1385,\n",
       " 65,\n",
       " 458,\n",
       " 4468,\n",
       " 66,\n",
       " 3941,\n",
       " 4,\n",
       " 173,\n",
       " 36,\n",
       " 256,\n",
       " 5,\n",
       " 25,\n",
       " 100,\n",
       " 43,\n",
       " 838,\n",
       " 112,\n",
       " 50,\n",
       " 670,\n",
       " 2,\n",
       " 9,\n",
       " 35,\n",
       " 480,\n",
       " 284,\n",
       " 5,\n",
       " 150,\n",
       " 4,\n",
       " 172,\n",
       " 112,\n",
       " 167,\n",
       " 2,\n",
       " 336,\n",
       " 385,\n",
       " 39,\n",
       " 4,\n",
       " 172,\n",
       " 4536,\n",
       " 1111,\n",
       " 17,\n",
       " 546,\n",
       " 38,\n",
       " 13,\n",
       " 447,\n",
       " 4,\n",
       " 192,\n",
       " 50,\n",
       " 16,\n",
       " 6,\n",
       " 147,\n",
       " 2025,\n",
       " 19,\n",
       " 14,\n",
       " 22,\n",
       " 4,\n",
       " 1920,\n",
       " 4613,\n",
       " 469,\n",
       " 4,\n",
       " 22,\n",
       " 71,\n",
       " 87,\n",
       " 12,\n",
       " 16,\n",
       " 43,\n",
       " 530,\n",
       " 38,\n",
       " 76,\n",
       " 15,\n",
       " 13,\n",
       " 1247,\n",
       " 4,\n",
       " 22,\n",
       " 17,\n",
       " 515,\n",
       " 17,\n",
       " 12,\n",
       " 16,\n",
       " 626,\n",
       " 18,\n",
       " 2,\n",
       " 5,\n",
       " 62,\n",
       " 386,\n",
       " 12,\n",
       " 8,\n",
       " 316,\n",
       " 8,\n",
       " 106,\n",
       " 5,\n",
       " 4,\n",
       " 2223,\n",
       " 5244,\n",
       " 16,\n",
       " 480,\n",
       " 66,\n",
       " 3785,\n",
       " 33,\n",
       " 4,\n",
       " 130,\n",
       " 12,\n",
       " 16,\n",
       " 38,\n",
       " 619,\n",
       " 5,\n",
       " 25,\n",
       " 124,\n",
       " 51,\n",
       " 36,\n",
       " 135,\n",
       " 48,\n",
       " 25,\n",
       " 1415,\n",
       " 33,\n",
       " 6,\n",
       " 22,\n",
       " 12,\n",
       " 215,\n",
       " 28,\n",
       " 77,\n",
       " 52,\n",
       " 5,\n",
       " 14,\n",
       " 407,\n",
       " 16,\n",
       " 82,\n",
       " 2,\n",
       " 8,\n",
       " 4,\n",
       " 107,\n",
       " 117,\n",
       " 5952,\n",
       " 15,\n",
       " 256,\n",
       " 4,\n",
       " 2,\n",
       " 7,\n",
       " 3766,\n",
       " 5,\n",
       " 723,\n",
       " 36,\n",
       " 71,\n",
       " 43,\n",
       " 530,\n",
       " 476,\n",
       " 26,\n",
       " 400,\n",
       " 317,\n",
       " 46,\n",
       " 7,\n",
       " 4,\n",
       " 2,\n",
       " 1029,\n",
       " 13,\n",
       " 104,\n",
       " 88,\n",
       " 4,\n",
       " 381,\n",
       " 15,\n",
       " 297,\n",
       " 98,\n",
       " 32,\n",
       " 2071,\n",
       " 56,\n",
       " 26,\n",
       " 141,\n",
       " 6,\n",
       " 194,\n",
       " 7486,\n",
       " 18,\n",
       " 4,\n",
       " 226,\n",
       " 22,\n",
       " 21,\n",
       " 134,\n",
       " 476,\n",
       " 26,\n",
       " 480,\n",
       " 5,\n",
       " 144,\n",
       " 30,\n",
       " 5535,\n",
       " 18,\n",
       " 51,\n",
       " 36,\n",
       " 28,\n",
       " 224,\n",
       " 92,\n",
       " 25,\n",
       " 104,\n",
       " 4,\n",
       " 226,\n",
       " 65,\n",
       " 16,\n",
       " 38,\n",
       " 1334,\n",
       " 88,\n",
       " 12,\n",
       " 16,\n",
       " 283,\n",
       " 5,\n",
       " 16,\n",
       " 4472,\n",
       " 113,\n",
       " 103,\n",
       " 32,\n",
       " 15,\n",
       " 16,\n",
       " 5345,\n",
       " 19,\n",
       " 178,\n",
       " 32]"
      ]
     },
     "execution_count": 10,
     "metadata": {},
     "output_type": "execute_result"
    }
   ],
   "source": [
    "train_data[0]"
   ]
  },
  {
   "cell_type": "code",
   "execution_count": 11,
   "metadata": {},
   "outputs": [
    {
     "data": {
      "text/plain": [
       "1"
      ]
     },
     "execution_count": 11,
     "metadata": {},
     "output_type": "execute_result"
    }
   ],
   "source": [
    "train_labels[0]"
   ]
  },
  {
   "cell_type": "markdown",
   "metadata": {},
   "source": [
    "Because you’re restricting yourself to the top 10,000 most frequent words, no word\n",
    "index will exceed 10,000:"
   ]
  },
  {
   "cell_type": "code",
   "execution_count": 13,
   "metadata": {},
   "outputs": [
    {
     "data": {
      "text/plain": [
       "9999"
      ]
     },
     "execution_count": 13,
     "metadata": {},
     "output_type": "execute_result"
    }
   ],
   "source": [
    "# List comprehension gets the max of each review\n",
    "# Finally we get the max of those max\n",
    "max([max(sequence) for sequence in train_data])"
   ]
  },
  {
   "cell_type": "code",
   "execution_count": 14,
   "metadata": {},
   "outputs": [],
   "source": [
    "# word_index is a dictionary mapping words to an integer index (its rank).\n",
    "word_index = imdb.get_word_index()"
   ]
  },
  {
   "cell_type": "code",
   "execution_count": 15,
   "metadata": {},
   "outputs": [
    {
     "data": {
      "text/plain": [
       "1"
      ]
     },
     "execution_count": 15,
     "metadata": {},
     "output_type": "execute_result"
    }
   ],
   "source": [
    "# Rank of 'the' is 1, which means it is most frequent word\n",
    "word_index['the']"
   ]
  },
  {
   "cell_type": "code",
   "execution_count": 16,
   "metadata": {},
   "outputs": [
    {
     "data": {
      "text/plain": [
       "781"
      ]
     },
     "execution_count": 16,
     "metadata": {},
     "output_type": "execute_result"
    }
   ],
   "source": [
    "# This means 'hate' is the 781st most frequent word\n",
    "word_index['hate']"
   ]
  },
  {
   "cell_type": "code",
   "execution_count": 17,
   "metadata": {},
   "outputs": [],
   "source": [
    "# Reverses it, mapping integer indices(ranks) to words\n",
    "reverse_word_index = dict([(value, key) for (key, value) in word_index.items()])"
   ]
  },
  {
   "cell_type": "code",
   "execution_count": 18,
   "metadata": {},
   "outputs": [
    {
     "data": {
      "text/plain": [
       "'the'"
      ]
     },
     "execution_count": 18,
     "metadata": {},
     "output_type": "execute_result"
    }
   ],
   "source": [
    "reverse_word_index.get(1)"
   ]
  },
  {
   "cell_type": "code",
   "execution_count": 19,
   "metadata": {},
   "outputs": [],
   "source": [
    "# Decode the first review.\n",
    "# https://docs.quantifiedcode.com/python-anti-patterns/correctness/not_using_get_to_return_a_default_value_from_a_dictionary.html\n",
    "decoded_review = ' '.join([reverse_word_index.get(i - 3, '?') for i in train_data[0]])"
   ]
  },
  {
   "cell_type": "markdown",
   "metadata": {},
   "source": [
    "**Note:** The indices are offset by 3 because 0, 1, and 2 are reserved indices for “padding,” “start of sequence,” and “unknown.”"
   ]
  },
  {
   "cell_type": "code",
   "execution_count": 20,
   "metadata": {},
   "outputs": [
    {
     "data": {
      "text/plain": [
       "\"? this film was just brilliant casting location scenery story direction everyone's really suited the part they played and you could just imagine being there robert ? is an amazing actor and now the same being director ? father came from the same scottish island as myself so i loved the fact there was a real connection with this film the witty remarks throughout the film were great it was just brilliant so much that i bought the film as soon as it was released for ? and would recommend it to everyone to watch and the fly fishing was amazing really cried at the end it was so sad and you know what they say if you cry at a film it must have been good and this definitely was also ? to the two little boy's that played the ? of norman and paul they were just brilliant children are often left out of the ? list i think because the stars that play them all grown up are such a big profile for the whole film but these children are amazing and should be praised for what they have done don't you think the whole story was so lovely because it was true and was someone's life after all that was shared with us all\""
      ]
     },
     "execution_count": 20,
     "metadata": {},
     "output_type": "execute_result"
    }
   ],
   "source": [
    "decoded_review"
   ]
  },
  {
   "cell_type": "markdown",
   "metadata": {},
   "source": [
    "### 2. Data Preparation\n",
    "* You can’t feed lists of integers into a neural network. You have to turn your lists into tensors.\n",
    "* We use One-hot encoding to convert the reviews into vectors of 0s and 1s, for instance, turning the sequence [3, 5] into a 10,000-dimensional vector that would be all 0s except for indices 3 and 5, which would be 1s.\n",
    "* Then you could use as the first layer in your network a Dense layer, capable of handling floating-point vector data."
   ]
  },
  {
   "cell_type": "code",
   "execution_count": 21,
   "metadata": {},
   "outputs": [],
   "source": [
    "def vectorize_sequences(sequences, dimension=10000):\n",
    "    # Creates an all-zero matrix of shape (len(sequences), dimension)\n",
    "    results = np.zeros((len(sequences), dimension))\n",
    "    for i, sequence in enumerate(sequences):\n",
    "        results[i, sequence] = 1.\n",
    "    return results"
   ]
  },
  {
   "cell_type": "code",
   "execution_count": 22,
   "metadata": {},
   "outputs": [],
   "source": [
    "x_train = vectorize_sequences(train_data) # Vectorize training data\n",
    "x_test = vectorize_sequences(test_data) # Vectorize test data"
   ]
  },
  {
   "cell_type": "code",
   "execution_count": 23,
   "metadata": {},
   "outputs": [
    {
     "data": {
      "text/plain": [
       "(25000, 10000)"
      ]
     },
     "execution_count": 23,
     "metadata": {},
     "output_type": "execute_result"
    }
   ],
   "source": [
    "x_train.shape"
   ]
  },
  {
   "cell_type": "markdown",
   "metadata": {},
   "source": [
    "Vectorizing the labels which is straigth forward"
   ]
  },
  {
   "cell_type": "code",
   "execution_count": 25,
   "metadata": {},
   "outputs": [],
   "source": [
    "y_train = np.asarray(train_labels).astype('float32')\n",
    "y_test = np.asarray(test_labels).astype('float32')"
   ]
  },
  {
   "cell_type": "markdown",
   "metadata": {},
   "source": [
    "### 3. Building the network"
   ]
  },
  {
   "cell_type": "code",
   "execution_count": 26,
   "metadata": {},
   "outputs": [],
   "source": [
    "model = models.Sequential()\n",
    "model.add(layers.Dense(16, activation='relu', input_shape=(10000,)))\n",
    "model.add(layers.Dense(16, activation='relu'))\n",
    "model.add(layers.Dense(1, activation='sigmoid'))"
   ]
  },
  {
   "cell_type": "code",
   "execution_count": 27,
   "metadata": {},
   "outputs": [
    {
     "name": "stdout",
     "output_type": "stream",
     "text": [
      "WARNING:tensorflow:From C:\\ProgramData\\Anaconda3\\lib\\site-packages\\keras\\backend\\tensorflow_backend.py:1349: calling reduce_mean (from tensorflow.python.ops.math_ops) with keep_dims is deprecated and will be removed in a future version.\n",
      "Instructions for updating:\n",
      "keep_dims is deprecated, use keepdims instead\n"
     ]
    }
   ],
   "source": [
    "model.compile(optimizer='rmsprop', loss='binary_crossentropy', metrics=['accuracy'])"
   ]
  },
  {
   "cell_type": "code",
   "execution_count": 28,
   "metadata": {},
   "outputs": [],
   "source": [
    "# create a validation set by setting apart 10,000 samples from the original training data.\n",
    "x_val = x_train[:10000]\n",
    "partial_x_train = x_train[10000:]\n",
    "\n",
    "y_val = y_train[:10000]\n",
    "partial_y_train = y_train[10000:]"
   ]
  },
  {
   "cell_type": "code",
   "execution_count": 29,
   "metadata": {},
   "outputs": [
    {
     "name": "stdout",
     "output_type": "stream",
     "text": [
      "Train on 15000 samples, validate on 10000 samples\n",
      "Epoch 1/20\n",
      "15000/15000 [==============================] - 9s 601us/step - loss: 0.5063 - acc: 0.7855 - val_loss: 0.3785 - val_acc: 0.8697\n",
      "Epoch 2/20\n",
      "15000/15000 [==============================] - 7s 458us/step - loss: 0.2994 - acc: 0.9050 - val_loss: 0.3000 - val_acc: 0.8904\n",
      "Epoch 3/20\n",
      "15000/15000 [==============================] - 7s 451us/step - loss: 0.2172 - acc: 0.9287 - val_loss: 0.3088 - val_acc: 0.8711\n",
      "Epoch 4/20\n",
      "15000/15000 [==============================] - 7s 437us/step - loss: 0.1746 - acc: 0.9436 - val_loss: 0.2840 - val_acc: 0.8841\n",
      "Epoch 5/20\n",
      "15000/15000 [==============================] - 7s 440us/step - loss: 0.1422 - acc: 0.9543 - val_loss: 0.2857 - val_acc: 0.8860\n",
      "Epoch 6/20\n",
      "15000/15000 [==============================] - 6s 431us/step - loss: 0.1147 - acc: 0.9652 - val_loss: 0.3111 - val_acc: 0.8786\n",
      "Epoch 7/20\n",
      "15000/15000 [==============================] - 7s 450us/step - loss: 0.0975 - acc: 0.9710 - val_loss: 0.3134 - val_acc: 0.8844\n",
      "Epoch 8/20\n",
      "15000/15000 [==============================] - 7s 473us/step - loss: 0.0804 - acc: 0.9767 - val_loss: 0.3858 - val_acc: 0.8660\n",
      "Epoch 9/20\n",
      "15000/15000 [==============================] - 7s 435us/step - loss: 0.0658 - acc: 0.9819 - val_loss: 0.3639 - val_acc: 0.8782\n",
      "Epoch 10/20\n",
      "15000/15000 [==============================] - 7s 449us/step - loss: 0.0558 - acc: 0.9851 - val_loss: 0.3851 - val_acc: 0.8785\n",
      "Epoch 11/20\n",
      "15000/15000 [==============================] - 7s 444us/step - loss: 0.0439 - acc: 0.9893 - val_loss: 0.4156 - val_acc: 0.8769\n",
      "Epoch 12/20\n",
      "15000/15000 [==============================] - 7s 460us/step - loss: 0.0380 - acc: 0.9917 - val_loss: 0.4533 - val_acc: 0.8691\n",
      "Epoch 13/20\n",
      "15000/15000 [==============================] - 7s 466us/step - loss: 0.0298 - acc: 0.9932 - val_loss: 0.4709 - val_acc: 0.8729\n",
      "Epoch 14/20\n",
      "15000/15000 [==============================] - 7s 469us/step - loss: 0.0249 - acc: 0.9945 - val_loss: 0.5046 - val_acc: 0.8719\n",
      "Epoch 15/20\n",
      "15000/15000 [==============================] - 7s 446us/step - loss: 0.0194 - acc: 0.9965 - val_loss: 0.5321 - val_acc: 0.8703\n",
      "Epoch 16/20\n",
      "15000/15000 [==============================] - 6s 424us/step - loss: 0.0157 - acc: 0.9973 - val_loss: 0.5669 - val_acc: 0.8682\n",
      "Epoch 17/20\n",
      "15000/15000 [==============================] - 7s 439us/step - loss: 0.0134 - acc: 0.9981 - val_loss: 0.5986 - val_acc: 0.8669\n",
      "Epoch 18/20\n",
      "15000/15000 [==============================] - 7s 465us/step - loss: 0.0095 - acc: 0.9989 - val_loss: 0.6310 - val_acc: 0.8674\n",
      "Epoch 19/20\n",
      "15000/15000 [==============================] - 7s 438us/step - loss: 0.0081 - acc: 0.9990 - val_loss: 0.6679 - val_acc: 0.8654\n",
      "Epoch 20/20\n",
      "15000/15000 [==============================] - 6s 430us/step - loss: 0.0098 - acc: 0.9980 - val_loss: 0.6925 - val_acc: 0.8673\n"
     ]
    }
   ],
   "source": [
    "history = model.fit(partial_x_train,\n",
    "                    partial_y_train,\n",
    "                    epochs=20,\n",
    "                    batch_size=512,\n",
    "                    validation_data=(x_val, y_val))"
   ]
  },
  {
   "cell_type": "markdown",
   "metadata": {},
   "source": [
    "**Note:** The call to model.fit() returns a History object. This object has a member history, which is a dictionary containing data about everything that happened during training. Let’s look at it:"
   ]
  },
  {
   "cell_type": "code",
   "execution_count": 30,
   "metadata": {},
   "outputs": [
    {
     "data": {
      "text/plain": [
       "dict_keys(['val_loss', 'val_acc', 'loss', 'acc'])"
      ]
     },
     "execution_count": 30,
     "metadata": {},
     "output_type": "execute_result"
    }
   ],
   "source": [
    "history_dict = history.history\n",
    "history_dict.keys()"
   ]
  },
  {
   "cell_type": "markdown",
   "metadata": {},
   "source": [
    "### 4. Plot train and validation loss"
   ]
  },
  {
   "cell_type": "code",
   "execution_count": 31,
   "metadata": {},
   "outputs": [
    {
     "data": {
      "image/png": "[encoded data removed]",
      "text/plain": [
       "<Figure size 432x288 with 1 Axes>"
      ]
     },
     "metadata": {},
     "output_type": "display_data"
    }
   ],
   "source": [
    "train_loss_values = history_dict['loss']\n",
    "val_loss_values = history_dict['val_loss']\n",
    "\n",
    "epochs = range(1, len(history_dict['acc']) + 1)\n",
    "\n",
    "plt.plot(epochs, train_loss_values, 'bo', label='Training loss')\n",
    "plt.plot(epochs, val_loss_values, 'b', label='Validation loss')\n",
    "plt.title('Training and validation loss')\n",
    "plt.xlabel('Epochs')\n",
    "plt.ylabel('Loss')\n",
    "plt.legend()\n",
    "plt.show()"
   ]
  },
  {
   "cell_type": "markdown",
   "metadata": {},
   "source": [
    "### 5. Plot train and validation accuracy"
   ]
  },
  {
   "cell_type": "code",
   "execution_count": 32,
   "metadata": {},
   "outputs": [
    {
     "data": {
      "image/png": "[encoded data removed]",
      "text/plain": [
       "<Figure size 432x288 with 1 Axes>"
      ]
     },
     "metadata": {},
     "output_type": "display_data"
    }
   ],
   "source": [
    "train_acc = history_dict['acc']\n",
    "val_acc = history_dict['val_acc']\n",
    "plt.plot(epochs, train_acc, 'bo', label='Training acc')\n",
    "plt.plot(epochs, val_acc, 'b', label='Validation acc')\n",
    "plt.title('Training and validation accuracy')\n",
    "plt.xlabel('Epochs')\n",
    "plt.ylabel('accuracy')\n",
    "plt.legend()\n",
    "plt.show()"
   ]
  },
  {
   "cell_type": "markdown",
   "metadata": {},
   "source": [
    "As you can see, the training loss decreases with every epoch, and the training accuracy increases with every epoch. That’s what you would expect when running gradientdescent optimization—the quantity you’re trying to minimize should be less with every iteration. But that isn’t the case for the validation loss and accuracy: they seem to peak at the fourth epoch. This is is **overfitting**: after the second epoch, you’re overoptimizing on the training data, and you end up learning representations that are specific to the training data and don’t generalize to data outside of the training set."
   ]
  },
  {
   "cell_type": "markdown",
   "metadata": {},
   "source": [
    "Let’s train a new network from scratch for four epochs and then evaluate it on the\n",
    "test data."
   ]
  },
  {
   "cell_type": "code",
   "execution_count": 33,
   "metadata": {},
   "outputs": [
    {
     "name": "stdout",
     "output_type": "stream",
     "text": [
      "Epoch 1/4\n",
      "25000/25000 [==============================] - 8s 337us/step - loss: 0.4736 - acc: 0.8216\n",
      "Epoch 2/4\n",
      "25000/25000 [==============================] - 7s 297us/step - loss: 0.2671 - acc: 0.9097\n",
      "Epoch 3/4\n",
      "25000/25000 [==============================] - 7s 289us/step - loss: 0.2031 - acc: 0.9286\n",
      "Epoch 4/4\n",
      "25000/25000 [==============================] - 7s 289us/step - loss: 0.1712 - acc: 0.9387\n",
      "25000/25000 [==============================] - 11s 425us/step\n"
     ]
    }
   ],
   "source": [
    "model = models.Sequential()\n",
    "model.add(layers.Dense(16, activation='relu', input_shape=(10000,)))\n",
    "model.add(layers.Dense(16, activation='relu'))\n",
    "model.add(layers.Dense(1, activation='sigmoid'))\n",
    "\n",
    "model.compile(optimizer='rmsprop', loss='binary_crossentropy', metrics=['accuracy'])\n",
    "\n",
    "model.fit(x_train, y_train, epochs=4, batch_size=512)\n",
    "results = model.evaluate(x_test, y_test)"
   ]
  },
  {
   "cell_type": "code",
   "execution_count": 34,
   "metadata": {},
   "outputs": [
    {
     "data": {
      "text/plain": [
       "[0.3118891020011902, 0.87636]"
      ]
     },
     "execution_count": 34,
     "metadata": {},
     "output_type": "execute_result"
    }
   ],
   "source": [
    "results"
   ]
  },
  {
   "cell_type": "markdown",
   "metadata": {},
   "source": [
    "Thus we get 88.5% accuracy with a fairly naive approach."
   ]
  },
  {
   "cell_type": "markdown",
   "metadata": {},
   "source": [
    "### 6. Prediction on test data\n",
    "After having trained a network, you’ll want to use it in a practical setting. You can generate the likelihood of reviews being positive by using the predict method:"
   ]
  },
  {
   "cell_type": "code",
   "execution_count": 35,
   "metadata": {},
   "outputs": [
    {
     "data": {
      "text/plain": [
       "array([[0.16090992],\n",
       "       [0.9998265 ],\n",
       "       [0.40527946],\n",
       "       ...,\n",
       "       [0.0822554 ],\n",
       "       [0.04901712],\n",
       "       [0.4529437 ]], dtype=float32)"
      ]
     },
     "execution_count": 35,
     "metadata": {},
     "output_type": "execute_result"
    }
   ],
   "source": [
    "model.predict(x_test)"
   ]
  },
  {
   "cell_type": "markdown",
   "metadata": {},
   "source": [
    "As you can see, the network is confident for some samples (0.99 or more, or 0.003 or less) but less confident for others (0.44, etc.)"
   ]
  },
  {
   "cell_type": "markdown",
   "metadata": {},
   "source": [
    "### 7. Assignmets:\n",
    "1. Try only 1 hidden layer with 16 units\n",
    "2. Try 3 hidden layers (each with 16 units)\n",
    "3. Try 2 hidden layers each with 32 units\n",
    "4. Try the same above architecture and replace relu activation by tanh activation in both the hidden layers"
   ]
  },
  {
   "cell_type": "markdown",
   "metadata": {},
   "source": [
    "### 7. With only 1 hidden layer and 16 units."
   ]
  },
  {
   "cell_type": "code",
   "execution_count": 78,
   "metadata": {},
   "outputs": [],
   "source": [
    "model = models.Sequential()\n",
    "model.add(layers.Dense(16, activation='relu', input_shape=(10000,)))\n",
    "model.add(layers.Dense(1, activation='sigmoid'))"
   ]
  },
  {
   "cell_type": "code",
   "execution_count": 79,
   "metadata": {},
   "outputs": [],
   "source": [
    "model.compile(optimizer='rmsprop', loss='binary_crossentropy', metrics=['accuracy'])"
   ]
  },
  {
   "cell_type": "code",
   "execution_count": 80,
   "metadata": {},
   "outputs": [],
   "source": [
    "# create a validation set by setting apart 10,000 samples from the original training data.\n",
    "x_val = x_train[:10000]\n",
    "partial_x_train = x_train[10000:]\n",
    "\n",
    "y_val = y_train[:10000]\n",
    "partial_y_train = y_train[10000:]"
   ]
  },
  {
   "cell_type": "code",
   "execution_count": 81,
   "metadata": {},
   "outputs": [
    {
     "name": "stdout",
     "output_type": "stream",
     "text": [
      "Train on 15000 samples, validate on 10000 samples\n",
      "Epoch 1/20\n",
      "15000/15000 [==============================] - 7s 489us/step - loss: 0.5055 - acc: 0.8007 - val_loss: 0.3929 - val_acc: 0.8706\n",
      "Epoch 2/20\n",
      "15000/15000 [==============================] - 7s 434us/step - loss: 0.3207 - acc: 0.9024 - val_loss: 0.3221 - val_acc: 0.8826\n",
      "Epoch 3/20\n",
      "15000/15000 [==============================] - 7s 438us/step - loss: 0.2480 - acc: 0.9217 - val_loss: 0.2930 - val_acc: 0.8878\n",
      "Epoch 4/20\n",
      "15000/15000 [==============================] - 6s 424us/step - loss: 0.2037 - acc: 0.9359 - val_loss: 0.2794 - val_acc: 0.8908\n",
      "Epoch 5/20\n",
      "15000/15000 [==============================] - 7s 449us/step - loss: 0.1726 - acc: 0.9484 - val_loss: 0.2736 - val_acc: 0.8903\n",
      "Epoch 6/20\n",
      "15000/15000 [==============================] - 7s 461us/step - loss: 0.1485 - acc: 0.9570 - val_loss: 0.2745 - val_acc: 0.8894\n",
      "Epoch 7/20\n",
      "15000/15000 [==============================] - 7s 460us/step - loss: 0.1294 - acc: 0.9636 - val_loss: 0.2805 - val_acc: 0.8881\n",
      "Epoch 8/20\n",
      "15000/15000 [==============================] - 7s 445us/step - loss: 0.1129 - acc: 0.9690 - val_loss: 0.2877 - val_acc: 0.8863\n",
      "Epoch 9/20\n",
      "15000/15000 [==============================] - 6s 432us/step - loss: 0.0987 - acc: 0.9729 - val_loss: 0.3046 - val_acc: 0.8806\n",
      "Epoch 10/20\n",
      "15000/15000 [==============================] - 6s 431us/step - loss: 0.0877 - acc: 0.9773 - val_loss: 0.3112 - val_acc: 0.8819\n",
      "Epoch 11/20\n",
      "15000/15000 [==============================] - 6s 430us/step - loss: 0.0769 - acc: 0.9814 - val_loss: 0.3232 - val_acc: 0.8835\n",
      "Epoch 12/20\n",
      "15000/15000 [==============================] - 6s 429us/step - loss: 0.0684 - acc: 0.9851 - val_loss: 0.3360 - val_acc: 0.8819\n",
      "Epoch 13/20\n",
      "15000/15000 [==============================] - 6s 428us/step - loss: 0.0597 - acc: 0.9869 - val_loss: 0.3508 - val_acc: 0.8816\n",
      "Epoch 14/20\n",
      "15000/15000 [==============================] - 7s 445us/step - loss: 0.0542 - acc: 0.9888 - val_loss: 0.3632 - val_acc: 0.8799\n",
      "Epoch 15/20\n",
      "15000/15000 [==============================] - 6s 413us/step - loss: 0.0463 - acc: 0.9907 - val_loss: 0.3817 - val_acc: 0.8783\n",
      "Epoch 16/20\n",
      "15000/15000 [==============================] - 6s 403us/step - loss: 0.0415 - acc: 0.9926 - val_loss: 0.4061 - val_acc: 0.8708\n",
      "Epoch 17/20\n",
      "15000/15000 [==============================] - 6s 406us/step - loss: 0.0366 - acc: 0.9944 - val_loss: 0.4141 - val_acc: 0.8741\n",
      "Epoch 18/20\n",
      "15000/15000 [==============================] - 6s 406us/step - loss: 0.0323 - acc: 0.9952 - val_loss: 0.4344 - val_acc: 0.8712\n",
      "Epoch 19/20\n",
      "15000/15000 [==============================] - 6s 406us/step - loss: 0.0280 - acc: 0.9959 - val_loss: 0.4492 - val_acc: 0.8709\n",
      "Epoch 20/20\n",
      "15000/15000 [==============================] - 6s 404us/step - loss: 0.0246 - acc: 0.9969 - val_loss: 0.4732 - val_acc: 0.8715\n"
     ]
    }
   ],
   "source": [
    "history = model.fit(partial_x_train,\n",
    "                    partial_y_train,\n",
    "                    epochs=20,\n",
    "                    batch_size=512,\n",
    "                    validation_data=(x_val, y_val))"
   ]
  },
  {
   "cell_type": "code",
   "execution_count": 82,
   "metadata": {},
   "outputs": [
    {
     "data": {
      "text/plain": [
       "dict_keys(['val_loss', 'val_acc', 'loss', 'acc'])"
      ]
     },
     "execution_count": 82,
     "metadata": {},
     "output_type": "execute_result"
    }
   ],
   "source": [
    "history_dict = history.history\n",
    "history_dict.keys()"
   ]
  },
  {
   "cell_type": "markdown",
   "metadata": {},
   "source": [
    "### 8. Plot train and validation loss"
   ]
  },
  {
   "cell_type": "code",
   "execution_count": 83,
   "metadata": {},
   "outputs": [
    {
     "data": {
      "image/png": "[encoded data removed]",
      "text/plain": [
       "<Figure size 432x288 with 1 Axes>"
      ]
     },
     "metadata": {},
     "output_type": "display_data"
    }
   ],
   "source": [
    "train_loss_values = history_dict['loss']\n",
    "val_loss_values = history_dict['val_loss']\n",
    "\n",
    "epochs = range(1, len(history_dict['acc']) + 1)\n",
    "\n",
    "plt.plot(epochs, train_loss_values, 'bo', label='Training loss')\n",
    "plt.plot(epochs, val_loss_values, 'b', label='Validation loss')\n",
    "plt.title('Training and validation loss')\n",
    "plt.xlabel('Epochs')\n",
    "plt.ylabel('Loss')\n",
    "plt.legend()\n",
    "plt.show()"
   ]
  },
  {
   "cell_type": "markdown",
   "metadata": {},
   "source": [
    "### 9. Plot train and validation accuracy"
   ]
  },
  {
   "cell_type": "code",
   "execution_count": 93,
   "metadata": {},
   "outputs": [
    {
     "data": {
      "image/png": "[encoded data removed]",
      "text/plain": [
       "<Figure size 432x288 with 1 Axes>"
      ]
     },
     "metadata": {},
     "output_type": "display_data"
    }
   ],
   "source": [
    "train_acc = history_dict['acc']\n",
    "val_acc = history_dict['val_acc']\n",
    "plt.plot(epochs, train_acc, 'bo', label='Training acc')\n",
    "plt.plot(epochs, val_acc, 'b', label='Validation acc')\n",
    "plt.title('Training and validation accuracy')\n",
    "plt.xlabel('Epochs')\n",
    "plt.ylabel('accuracy')\n",
    "plt.legend()\n",
    "plt.show()"
   ]
  },
  {
   "cell_type": "markdown",
   "metadata": {},
   "source": [
    "As you can see the training loss is decreasing gradually and the validation loss is increasing from the 3rd epoch.\n",
    "Similarly the training accuracy is increasing and the validation accuracy is decreasing from the 3rd epoch.\n",
    "Therefore this is a case of overfitting."
   ]
  },
  {
   "cell_type": "markdown",
   "metadata": {},
   "source": [
    "### 10. With 3 Hidden layers each with 16 units."
   ]
  },
  {
   "cell_type": "code",
   "execution_count": 85,
   "metadata": {},
   "outputs": [],
   "source": [
    "model = models.Sequential()\n",
    "model.add(layers.Dense(16, activation='relu', input_shape=(10000,)))\n",
    "model.add(layers.Dense(16, activation='relu'))\n",
    "model.add(layers.Dense(16, activation='relu'))\n",
    "model.add(layers.Dense(1, activation='sigmoid'))"
   ]
  },
  {
   "cell_type": "code",
   "execution_count": 86,
   "metadata": {},
   "outputs": [],
   "source": [
    "model.compile(optimizer='rmsprop', loss='binary_crossentropy', metrics=['accuracy'])"
   ]
  },
  {
   "cell_type": "code",
   "execution_count": 87,
   "metadata": {},
   "outputs": [],
   "source": [
    "# create a validation set by setting apart 10,000 samples from the original training data.\n",
    "x_val = x_train[:10000]\n",
    "partial_x_train = x_train[10000:]\n",
    "\n",
    "y_val = y_train[:10000]\n",
    "partial_y_train = y_train[10000:]"
   ]
  },
  {
   "cell_type": "code",
   "execution_count": 88,
   "metadata": {},
   "outputs": [
    {
     "name": "stdout",
     "output_type": "stream",
     "text": [
      "Train on 15000 samples, validate on 10000 samples\n",
      "Epoch 1/20\n",
      "15000/15000 [==============================] - 8s 523us/step - loss: 0.5310 - acc: 0.7668 - val_loss: 0.3929 - val_acc: 0.8607\n",
      "Epoch 2/20\n",
      "15000/15000 [==============================] - 7s 444us/step - loss: 0.3054 - acc: 0.8999 - val_loss: 0.2987 - val_acc: 0.8888\n",
      "Epoch 3/20\n",
      "15000/15000 [==============================] - 7s 435us/step - loss: 0.2172 - acc: 0.9303 - val_loss: 0.2963 - val_acc: 0.8836\n",
      "Epoch 4/20\n",
      "15000/15000 [==============================] - 7s 440us/step - loss: 0.1655 - acc: 0.9463 - val_loss: 0.2999 - val_acc: 0.8812\n",
      "Epoch 5/20\n",
      "15000/15000 [==============================] - 7s 434us/step - loss: 0.1349 - acc: 0.9571 - val_loss: 0.2895 - val_acc: 0.8879\n",
      "Epoch 6/20\n",
      "15000/15000 [==============================] - 7s 434us/step - loss: 0.1063 - acc: 0.9683 - val_loss: 0.3060 - val_acc: 0.8857\n",
      "Epoch 7/20\n",
      "15000/15000 [==============================] - 7s 442us/step - loss: 0.0913 - acc: 0.9719 - val_loss: 0.3273 - val_acc: 0.8834\n",
      "Epoch 8/20\n",
      "15000/15000 [==============================] - 7s 443us/step - loss: 0.0659 - acc: 0.9830 - val_loss: 0.3612 - val_acc: 0.8821\n",
      "Epoch 9/20\n",
      "15000/15000 [==============================] - 7s 458us/step - loss: 0.0559 - acc: 0.9850 - val_loss: 0.3887 - val_acc: 0.8808\n",
      "Epoch 10/20\n",
      "15000/15000 [==============================] - 7s 492us/step - loss: 0.0473 - acc: 0.9873 - val_loss: 0.4180 - val_acc: 0.8771\n",
      "Epoch 11/20\n",
      "15000/15000 [==============================] - 7s 441us/step - loss: 0.0320 - acc: 0.9931 - val_loss: 0.4543 - val_acc: 0.8754\n",
      "Epoch 12/20\n",
      "15000/15000 [==============================] - 7s 470us/step - loss: 0.0255 - acc: 0.9942 - val_loss: 0.5009 - val_acc: 0.8735\n",
      "Epoch 13/20\n",
      "15000/15000 [==============================] - 7s 449us/step - loss: 0.0273 - acc: 0.9931 - val_loss: 0.5278 - val_acc: 0.8720\n",
      "Epoch 14/20\n",
      "15000/15000 [==============================] - 7s 444us/step - loss: 0.0100 - acc: 0.9991 - val_loss: 0.5639 - val_acc: 0.8713\n",
      "Epoch 15/20\n",
      "15000/15000 [==============================] - 7s 442us/step - loss: 0.0153 - acc: 0.9967 - val_loss: 0.6025 - val_acc: 0.8707\n",
      "Epoch 16/20\n",
      "15000/15000 [==============================] - 7s 440us/step - loss: 0.0050 - acc: 0.9995 - val_loss: 0.6656 - val_acc: 0.8689\n",
      "Epoch 17/20\n",
      "15000/15000 [==============================] - 7s 462us/step - loss: 0.0136 - acc: 0.9955 - val_loss: 0.7050 - val_acc: 0.8671\n",
      "Epoch 18/20\n",
      "15000/15000 [==============================] - 7s 443us/step - loss: 0.0025 - acc: 0.9996 - val_loss: 0.7332 - val_acc: 0.8658\n",
      "Epoch 19/20\n",
      "15000/15000 [==============================] - 7s 474us/step - loss: 0.0028 - acc: 0.9994 - val_loss: 0.9321 - val_acc: 0.8470\n",
      "Epoch 20/20\n",
      "15000/15000 [==============================] - 7s 455us/step - loss: 0.0028 - acc: 0.9993 - val_loss: 0.7993 - val_acc: 0.8635\n"
     ]
    }
   ],
   "source": [
    "history = model.fit(partial_x_train,\n",
    "                    partial_y_train,\n",
    "                    epochs=20,\n",
    "                    batch_size=512,\n",
    "                    validation_data=(x_val, y_val))"
   ]
  },
  {
   "cell_type": "code",
   "execution_count": 89,
   "metadata": {},
   "outputs": [
    {
     "data": {
      "text/plain": [
       "dict_keys(['val_loss', 'val_acc', 'loss', 'acc'])"
      ]
     },
     "execution_count": 89,
     "metadata": {},
     "output_type": "execute_result"
    }
   ],
   "source": [
    "history_dict = history.history\n",
    "history_dict.keys()"
   ]
  },
  {
   "cell_type": "markdown",
   "metadata": {},
   "source": [
    "### 11. Plot train and validation loss"
   ]
  },
  {
   "cell_type": "code",
   "execution_count": 90,
   "metadata": {},
   "outputs": [
    {
     "data": {
      "image/png": "[encoded data removed]",
      "text/plain": [
       "<Figure size 432x288 with 1 Axes>"
      ]
     },
     "metadata": {},
     "output_type": "display_data"
    }
   ],
   "source": [
    "train_loss_values = history_dict['loss']\n",
    "val_loss_values = history_dict['val_loss']\n",
    "\n",
    "epochs = range(1, len(history_dict['acc']) + 1)\n",
    "\n",
    "plt.plot(epochs, train_loss_values, 'bo', label='Training loss')\n",
    "plt.plot(epochs, val_loss_values, 'b', label='Validation loss')\n",
    "plt.title('Training and validation loss')\n",
    "plt.xlabel('Epochs')\n",
    "plt.ylabel('Loss')\n",
    "plt.legend()\n",
    "plt.show()"
   ]
  },
  {
   "cell_type": "markdown",
   "metadata": {},
   "source": [
    "### 12. Plot train and validation accuracy"
   ]
  },
  {
   "cell_type": "code",
   "execution_count": 92,
   "metadata": {},
   "outputs": [
    {
     "data": {
      "image/png": "[encoded data removed]",
      "text/plain": [
       "<Figure size 432x288 with 1 Axes>"
      ]
     },
     "metadata": {},
     "output_type": "display_data"
    }
   ],
   "source": [
    "train_acc = history_dict['acc']\n",
    "val_acc = history_dict['val_acc']\n",
    "plt.plot(epochs, train_acc, 'bo', label='Training acc')\n",
    "plt.plot(epochs, val_acc, 'b', label='Validation acc')\n",
    "plt.title('Training and validation accuracy')\n",
    "plt.xlabel('Epochs')\n",
    "plt.ylabel('accuracy')\n",
    "plt.legend()\n",
    "plt.show()"
   ]
  },
  {
   "cell_type": "markdown",
   "metadata": {},
   "source": [
    "Similarly this model also overfits by overoptimizing the training data and fails to generalize the test data."
   ]
  },
  {
   "cell_type": "markdown",
   "metadata": {},
   "source": [
    "### 13. With 2 Hidden layer each with 32 units."
   ]
  },
  {
   "cell_type": "code",
   "execution_count": 94,
   "metadata": {},
   "outputs": [],
   "source": [
    "model = models.Sequential()\n",
    "model.add(layers.Dense(32, activation='relu', input_shape=(10000,)))\n",
    "model.add(layers.Dense(32, activation='relu'))\n",
    "model.add(layers.Dense(1, activation='sigmoid'))"
   ]
  },
  {
   "cell_type": "code",
   "execution_count": 95,
   "metadata": {},
   "outputs": [],
   "source": [
    "model.compile(optimizer='rmsprop', loss='binary_crossentropy', metrics=['accuracy'])"
   ]
  },
  {
   "cell_type": "code",
   "execution_count": 96,
   "metadata": {},
   "outputs": [],
   "source": [
    "# create a validation set by setting apart 10,000 samples from the original training data.\n",
    "x_val = x_train[:10000]\n",
    "partial_x_train = x_train[10000:]\n",
    "\n",
    "y_val = y_train[:10000]\n",
    "partial_y_train = y_train[10000:]"
   ]
  },
  {
   "cell_type": "code",
   "execution_count": 97,
   "metadata": {},
   "outputs": [
    {
     "name": "stdout",
     "output_type": "stream",
     "text": [
      "Train on 15000 samples, validate on 10000 samples\n",
      "Epoch 1/20\n",
      "15000/15000 [==============================] - 9s 583us/step - loss: 0.4901 - acc: 0.7879 - val_loss: 0.3455 - val_acc: 0.8805\n",
      "Epoch 2/20\n",
      "15000/15000 [==============================] - 7s 468us/step - loss: 0.2726 - acc: 0.9061 - val_loss: 0.2841 - val_acc: 0.8906\n",
      "Epoch 3/20\n",
      "15000/15000 [==============================] - 8s 504us/step - loss: 0.1963 - acc: 0.9322 - val_loss: 0.3523 - val_acc: 0.8607\n",
      "Epoch 4/20\n",
      "15000/15000 [==============================] - 7s 475us/step - loss: 0.1515 - acc: 0.9482 - val_loss: 0.2878 - val_acc: 0.8866\n",
      "Epoch 5/20\n",
      "15000/15000 [==============================] - 7s 468us/step - loss: 0.1181 - acc: 0.9605 - val_loss: 0.3370 - val_acc: 0.8719\n",
      "Epoch 6/20\n",
      "15000/15000 [==============================] - 7s 485us/step - loss: 0.0949 - acc: 0.9695 - val_loss: 0.3713 - val_acc: 0.8689\n",
      "Epoch 7/20\n",
      "15000/15000 [==============================] - 7s 467us/step - loss: 0.0721 - acc: 0.9771 - val_loss: 0.3563 - val_acc: 0.8795\n",
      "Epoch 8/20\n",
      "15000/15000 [==============================] - 7s 493us/step - loss: 0.0577 - acc: 0.9846 - val_loss: 0.3893 - val_acc: 0.8754\n",
      "Epoch 9/20\n",
      "15000/15000 [==============================] - 7s 473us/step - loss: 0.0446 - acc: 0.9867 - val_loss: 0.4412 - val_acc: 0.8738\n",
      "Epoch 10/20\n",
      "15000/15000 [==============================] - 7s 495us/step - loss: 0.0382 - acc: 0.9889 - val_loss: 0.4643 - val_acc: 0.8751\n",
      "Epoch 11/20\n",
      "15000/15000 [==============================] - 7s 470us/step - loss: 0.0290 - acc: 0.9921 - val_loss: 0.4992 - val_acc: 0.8744\n",
      "Epoch 12/20\n",
      "15000/15000 [==============================] - 7s 497us/step - loss: 0.0126 - acc: 0.9987 - val_loss: 0.5206 - val_acc: 0.8705\n",
      "Epoch 13/20\n",
      "15000/15000 [==============================] - 7s 476us/step - loss: 0.0213 - acc: 0.9943 - val_loss: 0.5472 - val_acc: 0.8713\n",
      "Epoch 14/20\n",
      "15000/15000 [==============================] - 7s 466us/step - loss: 0.0134 - acc: 0.9965 - val_loss: 0.5821 - val_acc: 0.8681\n",
      "Epoch 15/20\n",
      "15000/15000 [==============================] - 7s 463us/step - loss: 0.0048 - acc: 0.9998 - val_loss: 0.6182 - val_acc: 0.8693\n",
      "Epoch 16/20\n",
      "15000/15000 [==============================] - 7s 464us/step - loss: 0.0143 - acc: 0.9952 - val_loss: 0.6715 - val_acc: 0.8698\n",
      "Epoch 17/20\n",
      "15000/15000 [==============================] - 7s 459us/step - loss: 0.0022 - acc: 0.9999 - val_loss: 0.6897 - val_acc: 0.8681\n",
      "Epoch 18/20\n",
      "15000/15000 [==============================] - 7s 459us/step - loss: 0.0017 - acc: 0.9999 - val_loss: 0.7967 - val_acc: 0.8643\n",
      "Epoch 19/20\n",
      "15000/15000 [==============================] - 7s 459us/step - loss: 0.0099 - acc: 0.9974 - val_loss: 0.7534 - val_acc: 0.8655\n",
      "Epoch 20/20\n",
      "15000/15000 [==============================] - 7s 475us/step - loss: 9.4313e-04 - acc: 1.0000 - val_loss: 0.7973 - val_acc: 0.8675\n"
     ]
    }
   ],
   "source": [
    "history = model.fit(partial_x_train,\n",
    "                    partial_y_train,\n",
    "                    epochs=20,\n",
    "                    batch_size=512,\n",
    "                    validation_data=(x_val, y_val))"
   ]
  },
  {
   "cell_type": "code",
   "execution_count": 98,
   "metadata": {},
   "outputs": [
    {
     "data": {
      "text/plain": [
       "dict_keys(['val_loss', 'val_acc', 'loss', 'acc'])"
      ]
     },
     "execution_count": 98,
     "metadata": {},
     "output_type": "execute_result"
    }
   ],
   "source": [
    "history_dict = history.history\n",
    "history_dict.keys()"
   ]
  },
  {
   "cell_type": "markdown",
   "metadata": {},
   "source": [
    "### 14. Plot train and validation loss"
   ]
  },
  {
   "cell_type": "code",
   "execution_count": 99,
   "metadata": {},
   "outputs": [
    {
     "data": {
      "image/png": "[encoded data removed]",
      "text/plain": [
       "<Figure size 432x288 with 1 Axes>"
      ]
     },
     "metadata": {},
     "output_type": "display_data"
    }
   ],
   "source": [
    "train_loss_values = history_dict['loss']\n",
    "val_loss_values = history_dict['val_loss']\n",
    "\n",
    "epochs = range(1, len(history_dict['acc']) + 1)\n",
    "\n",
    "plt.plot(epochs, train_loss_values, 'bo', label='Training loss')\n",
    "plt.plot(epochs, val_loss_values, 'b', label='Validation loss')\n",
    "plt.title('Training and validation loss')\n",
    "plt.xlabel('Epochs')\n",
    "plt.ylabel('Loss')\n",
    "plt.legend()\n",
    "plt.show()"
   ]
  },
  {
   "cell_type": "markdown",
   "metadata": {},
   "source": [
    "### 15. Plot train and validation accuracy"
   ]
  },
  {
   "cell_type": "code",
   "execution_count": 100,
   "metadata": {},
   "outputs": [
    {
     "data": {
      "image/png": "[encoded data removed]",
      "text/plain": [
       "<Figure size 432x288 with 1 Axes>"
      ]
     },
     "metadata": {},
     "output_type": "display_data"
    }
   ],
   "source": [
    "train_acc = history_dict['acc']\n",
    "val_acc = history_dict['val_acc']\n",
    "plt.plot(epochs, train_acc, 'bo', label='Training acc')\n",
    "plt.plot(epochs, val_acc, 'b', label='Validation acc')\n",
    "plt.title('Training and validation accuracy')\n",
    "plt.xlabel('Epochs')\n",
    "plt.ylabel('accuracy')\n",
    "plt.legend()\n",
    "plt.show()"
   ]
  },
  {
   "cell_type": "markdown",
   "metadata": {},
   "source": [
    "### 16. With 2 Hidden layers each 16 units and activation function as tanh."
   ]
  },
  {
   "cell_type": "code",
   "execution_count": 101,
   "metadata": {},
   "outputs": [],
   "source": [
    "model = models.Sequential()\n",
    "model.add(layers.Dense(16, activation='tanh', input_shape=(10000,)))\n",
    "model.add(layers.Dense(16, activation='tanh'))\n",
    "model.add(layers.Dense(1, activation='sigmoid'))"
   ]
  },
  {
   "cell_type": "code",
   "execution_count": 102,
   "metadata": {},
   "outputs": [],
   "source": [
    "model.compile(optimizer='rmsprop', loss='binary_crossentropy', metrics=['accuracy'])"
   ]
  },
  {
   "cell_type": "code",
   "execution_count": 103,
   "metadata": {},
   "outputs": [],
   "source": [
    "# create a validation set by setting apart 10,000 samples from the original training data.\n",
    "x_val = x_train[:10000]\n",
    "partial_x_train = x_train[10000:]\n",
    "\n",
    "y_val = y_train[:10000]\n",
    "partial_y_train = y_train[10000:]"
   ]
  },
  {
   "cell_type": "code",
   "execution_count": 104,
   "metadata": {},
   "outputs": [
    {
     "name": "stdout",
     "output_type": "stream",
     "text": [
      "Train on 15000 samples, validate on 10000 samples\n",
      "Epoch 1/20\n",
      "15000/15000 [==============================] - 8s 515us/step - loss: 0.4661 - acc: 0.8041 - val_loss: 0.3419 - val_acc: 0.8793\n",
      "Epoch 2/20\n",
      "15000/15000 [==============================] - 7s 460us/step - loss: 0.2643 - acc: 0.9081 - val_loss: 0.2879 - val_acc: 0.8865\n",
      "Epoch 3/20\n",
      "15000/15000 [==============================] - 7s 444us/step - loss: 0.1880 - acc: 0.9351 - val_loss: 0.2905 - val_acc: 0.8819\n",
      "Epoch 4/20\n",
      "15000/15000 [==============================] - 7s 455us/step - loss: 0.1438 - acc: 0.9491 - val_loss: 0.2858 - val_acc: 0.8855\n",
      "Epoch 5/20\n",
      "15000/15000 [==============================] - 7s 440us/step - loss: 0.1107 - acc: 0.9623 - val_loss: 0.3167 - val_acc: 0.8807\n",
      "Epoch 6/20\n",
      "15000/15000 [==============================] - 7s 455us/step - loss: 0.0860 - acc: 0.9722 - val_loss: 0.3536 - val_acc: 0.8782\n",
      "Epoch 7/20\n",
      "15000/15000 [==============================] - 7s 448us/step - loss: 0.0694 - acc: 0.9783 - val_loss: 0.3861 - val_acc: 0.8772\n",
      "Epoch 8/20\n",
      "15000/15000 [==============================] - 7s 437us/step - loss: 0.0451 - acc: 0.9879 - val_loss: 0.4327 - val_acc: 0.8760\n",
      "Epoch 9/20\n",
      "15000/15000 [==============================] - 7s 445us/step - loss: 0.0419 - acc: 0.9868 - val_loss: 0.4676 - val_acc: 0.8717\n",
      "Epoch 10/20\n",
      "15000/15000 [==============================] - 7s 456us/step - loss: 0.0387 - acc: 0.9887 - val_loss: 0.5165 - val_acc: 0.8708\n",
      "Epoch 11/20\n",
      "15000/15000 [==============================] - 7s 436us/step - loss: 0.0278 - acc: 0.9911 - val_loss: 0.5352 - val_acc: 0.8699\n",
      "Epoch 12/20\n",
      "15000/15000 [==============================] - 7s 445us/step - loss: 0.0235 - acc: 0.9929 - val_loss: 0.5761 - val_acc: 0.8671\n",
      "Epoch 13/20\n",
      "15000/15000 [==============================] - 7s 443us/step - loss: 0.0074 - acc: 0.9993 - val_loss: 0.6315 - val_acc: 0.8681\n",
      "Epoch 14/20\n",
      "15000/15000 [==============================] - 7s 458us/step - loss: 0.0203 - acc: 0.9940 - val_loss: 0.6561 - val_acc: 0.8654\n",
      "Epoch 15/20\n",
      "15000/15000 [==============================] - 7s 460us/step - loss: 0.0030 - acc: 0.9998 - val_loss: 0.7114 - val_acc: 0.8644\n",
      "Epoch 16/20\n",
      "15000/15000 [==============================] - 7s 462us/step - loss: 0.0206 - acc: 0.9936 - val_loss: 0.7350 - val_acc: 0.8635\n",
      "Epoch 17/20\n",
      "15000/15000 [==============================] - 7s 457us/step - loss: 0.0014 - acc: 0.9999 - val_loss: 0.7536 - val_acc: 0.8625\n",
      "Epoch 18/20\n",
      "15000/15000 [==============================] - 7s 478us/step - loss: 8.8576e-04 - acc: 1.0000 - val_loss: 0.7963 - val_acc: 0.8629\n",
      "Epoch 19/20\n",
      "15000/15000 [==============================] - 7s 457us/step - loss: 0.0198 - acc: 0.9945 - val_loss: 0.8290 - val_acc: 0.8619\n",
      "Epoch 20/20\n",
      "15000/15000 [==============================] - 6s 428us/step - loss: 4.4853e-04 - acc: 1.0000 - val_loss: 0.8428 - val_acc: 0.8610\n"
     ]
    }
   ],
   "source": [
    "history = model.fit(partial_x_train,\n",
    "                    partial_y_train,\n",
    "                    epochs=20,\n",
    "                    batch_size=512,\n",
    "                    validation_data=(x_val, y_val))"
   ]
  },
  {
   "cell_type": "code",
   "execution_count": 105,
   "metadata": {},
   "outputs": [
    {
     "data": {
      "text/plain": [
       "dict_keys(['val_loss', 'val_acc', 'loss', 'acc'])"
      ]
     },
     "execution_count": 105,
     "metadata": {},
     "output_type": "execute_result"
    }
   ],
   "source": [
    "history_dict = history.history\n",
    "history_dict.keys()"
   ]
  },
  {
   "cell_type": "markdown",
   "metadata": {},
   "source": [
    "### 17. Plot train and validation loss"
   ]
  },
  {
   "cell_type": "code",
   "execution_count": 106,
   "metadata": {},
   "outputs": [
    {
     "data": {
      "image/png": "[encoded data removed]",
      "text/plain": [
       "<Figure size 432x288 with 1 Axes>"
      ]
     },
     "metadata": {},
     "output_type": "display_data"
    }
   ],
   "source": [
    "train_loss_values = history_dict['loss']\n",
    "val_loss_values = history_dict['val_loss']\n",
    "\n",
    "epochs = range(1, len(history_dict['acc']) + 1)\n",
    "\n",
    "plt.plot(epochs, train_loss_values, 'bo', label='Training loss')\n",
    "plt.plot(epochs, val_loss_values, 'b', label='Validation loss')\n",
    "plt.title('Training and validation loss')\n",
    "plt.xlabel('Epochs')\n",
    "plt.ylabel('Loss')\n",
    "plt.legend()\n",
    "plt.show()"
   ]
  },
  {
   "cell_type": "markdown",
   "metadata": {},
   "source": [
    "### 18. Plot train and validation accuracy"
   ]
  },
  {
   "cell_type": "code",
   "execution_count": 107,
   "metadata": {},
   "outputs": [
    {
     "data": {
      "image/png": "[encoded data removed]",
      "text/plain": [
       "<Figure size 432x288 with 1 Axes>"
      ]
     },
     "metadata": {},
     "output_type": "display_data"
    }
   ],
   "source": [
    "train_acc = history_dict['acc']\n",
    "val_acc = history_dict['val_acc']\n",
    "plt.plot(epochs, train_acc, 'bo', label='Training acc')\n",
    "plt.plot(epochs, val_acc, 'b', label='Validation acc')\n",
    "plt.title('Training and validation accuracy')\n",
    "plt.xlabel('Epochs')\n",
    "plt.ylabel('accuracy')\n",
    "plt.legend()\n",
    "plt.show()"
   ]
  },
  {
   "cell_type": "code",
   "execution_count": null,
   "metadata": {},
   "outputs": [],
   "source": []
  }
 ],
 "metadata": {
  "kernelspec": {
   "display_name": "Python 3",
   "language": "python",
   "name": "python3"
  },
  "language_info": {
   "codemirror_mode": {
    "name": "ipython",
    "version": 3
   },
   "file_extension": ".py",
   "mimetype": "text/x-python",
   "name": "python",
   "nbconvert_exporter": "python",
   "pygments_lexer": "ipython3",
   "version": "3.6.5"
  }
 },
 "nbformat": 4,
 "nbformat_minor": 2
}
